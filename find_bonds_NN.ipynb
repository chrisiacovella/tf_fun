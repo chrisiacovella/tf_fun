{
 "cells": [
  {
   "cell_type": "code",
   "execution_count": 1,
   "id": "34da3377-0ca2-4c5c-a11e-04a534ca2c38",
   "metadata": {},
   "outputs": [],
   "source": [
    "import tensorflow as tf\n",
    "import pandas as pd\n",
    "import mbuild as mb\n",
    "import numpy as np\n",
    "import warnings\n",
    "warnings.filterwarnings('ignore')"
   ]
  },
  {
   "cell_type": "markdown",
   "id": "f16158da-f861-4eb1-a24b-57dec201ede1",
   "metadata": {},
   "source": [
    "This code will train a very simple neural network model to tell us if a pair of atoms at distance x should be bonded. \n",
    "\n",
    "To train the model, we will loop over all pairs of atoms in a given molecule, storing the atomic number of each atom, the distance, and whether the pair of atoms are bonded.  To gather the training data, we will generate a series of molecules from the smiles strings below, as we can trivially load these into mbuild Compounds. \n",
    "\n",
    "This will return a pandas data frame as it will make it easier to parse up into training/validation.\n"
   ]
  },
  {
   "cell_type": "code",
   "execution_count": 2,
   "id": "b859f270-e330-44fe-8c3d-27fc4df44a19",
   "metadata": {},
   "outputs": [],
   "source": [
    "smiles_strings = ['C', 'CC', 'CCC', 'CCCC', 'CCCCC', 'CCCCCC', 'CCCCCCCCCCCC',\n",
    "                  'C1CCCCC1', 'OCCOCCO', 'CO', 'CCO', 'CCCO', 'CCCCO',\n",
    "                  'C1CNC(CC1CP(=O)(O)O)C(=O)O', 'c1ccccc1',\n",
    "                 'C1CCCCC1', 'CCCCC=C', 'O=C=O', 'CCN(CC)CC', 'CC(=O)O', 'C1=CC(=CC=C1Cl)Cl']\n",
    "                  "
   ]
  },
  {
   "cell_type": "code",
   "execution_count": 3,
   "id": "3150c0e9-ae16-49d0-9b8a-dece161d26da",
   "metadata": {},
   "outputs": [],
   "source": [
    "def generate_data(smiles_strings):\n",
    "    data_set = []\n",
    "    for smile in smiles_strings:\n",
    "        comp1 = mb.load(smile, smiles=True)\n",
    "\n",
    "        for p1 in comp1.particles():\n",
    "            for p2 in comp1.particles():\n",
    "                if p1 != p2:\n",
    "                    distance = np.linalg.norm(p1.xyz-p2.xyz)\n",
    "\n",
    "                    # let us exclude any values greater than 0.5 nm\n",
    "                    # this is still very long for a bond, but we want to make sure we are training the model\n",
    "                    # with cases where no bonds should exist. \n",
    "                    # if we limited it to a much smaller value, say 0.2 nm, our dataset with be about 1/5 the size\n",
    "                    # and be almost exclusively bonded atoms. \n",
    "                    # We basically want the code to understand that no bonds should exist at larger distances\n",
    "                    if distance < 0.5:\n",
    "                        if comp1.bond_graph.has_edge(p1,p2):\n",
    "                            temp_dict = {'A': p1.element.atomic_number, 'B': p2.element.atomic_number, \n",
    "                                 'dist': distance*10.0,\n",
    "                                'bonded': 1}\n",
    "                            data_set.append(temp_dict)\n",
    "                        else:\n",
    "                            temp_dict = {'A': p1.element.atomic_number, 'B': p2.element.atomic_number, \n",
    "                                 'dist': distance*10,\n",
    "                                'bonded': 0}\n",
    "                            data_set.append(temp_dict)\n",
    "    return pd.DataFrame(data_set)\n"
   ]
  },
  {
   "cell_type": "code",
   "execution_count": 4,
   "id": "517480cc-21f5-4f3c-87a1-bec4fef2181a",
   "metadata": {},
   "outputs": [],
   "source": [
    "data_set = generate_data(smiles_strings)"
   ]
  },
  {
   "cell_type": "markdown",
   "id": "29ef83eb-24bb-4806-ac8a-376b565963fc",
   "metadata": {},
   "source": [
    "Split our data such that 75% are training 25% are for validation"
   ]
  },
  {
   "cell_type": "code",
   "execution_count": 5,
   "id": "d3bad4b9-8c7a-4377-bf1f-5dfafbf00490",
   "metadata": {},
   "outputs": [],
   "source": [
    "train_df = data_set.sample(frac=0.75, random_state=4)\n",
    "val_df = data_set.drop(train_df.index)\n"
   ]
  },
  {
   "cell_type": "markdown",
   "id": "33e99112-a4b5-414f-be38-7f89be0eb5b3",
   "metadata": {},
   "source": [
    "We will then further split this up for training/testing the model, basically splitting the 'bonded' column into Y_train and Y_val."
   ]
  },
  {
   "cell_type": "code",
   "execution_count": 6,
   "id": "c75545b4-e7ce-403f-9bad-566831b10350",
   "metadata": {},
   "outputs": [],
   "source": [
    "X_train = train_df.drop('bonded',axis=1)\n",
    "Y_train = train_df['bonded']\n",
    "\n",
    "\n",
    "X_val = val_df.drop('bonded',axis=1)\n",
    "Y_val = val_df['bonded']"
   ]
  },
  {
   "cell_type": "code",
   "execution_count": 7,
   "id": "d6f8cd63-b2b3-44e0-8bb4-fa516059547d",
   "metadata": {},
   "outputs": [],
   "source": [
    "input_shape = [X_train.shape[1]]"
   ]
  },
  {
   "cell_type": "markdown",
   "id": "ea4d9b5b-7f38-40ba-8a9a-c8e790e8707b",
   "metadata": {},
   "source": [
    "Set up a sequential model with 3 layers: 1 input layer, 1 hidden layer with 64 units, and 1 output layer.\n",
    "\n",
    "Since this is basically a classification problem, we will set the output layer to have 2 units (i.e., 2 states, bonded or not bonded) and use softmax activation (i.e.,  the sum of the outputs will be 1 for each pair such that each value in the vector is basically a probability)."
   ]
  },
  {
   "cell_type": "code",
   "execution_count": 8,
   "id": "c6692baf-2b7e-4856-9cce-454585a4bc89",
   "metadata": {},
   "outputs": [
    {
     "name": "stdout",
     "output_type": "stream",
     "text": [
      "Model: \"sequential\"\n",
      "_________________________________________________________________\n",
      " Layer (type)                Output Shape              Param #   \n",
      "=================================================================\n",
      " dense (Dense)               (None, 64)                256       \n",
      "                                                                 \n",
      " dense_1 (Dense)             (None, 64)                4160      \n",
      "                                                                 \n",
      " dense_2 (Dense)             (None, 2)                 130       \n",
      "                                                                 \n",
      "=================================================================\n",
      "Total params: 4,546\n",
      "Trainable params: 4,546\n",
      "Non-trainable params: 0\n",
      "_________________________________________________________________\n"
     ]
    }
   ],
   "source": [
    "model = tf.keras.Sequential([\n",
    " \n",
    "    tf.keras.layers.Dense(units=64, activation='relu',\n",
    "                          input_shape=input_shape),\n",
    "    tf.keras.layers.Dense(units=64, activation='relu'),\n",
    "    tf.keras.layers.Dense(units=2, activation='softmax')\n",
    "])\n",
    "model.summary()"
   ]
  },
  {
   "cell_type": "code",
   "execution_count": 9,
   "id": "c085cd60-3248-429b-858d-99150dab964e",
   "metadata": {},
   "outputs": [],
   "source": [
    "model.compile(optimizer='adam', \n",
    "              #loss= 'mae',\n",
    "              loss =tf.keras.losses.SparseCategoricalCrossentropy(),\n",
    "              metrics=['accuracy'])"
   ]
  },
  {
   "cell_type": "code",
   "execution_count": 10,
   "id": "1fe16b25-f86d-4243-a52f-8b2c1764d105",
   "metadata": {
    "scrolled": true,
    "tags": []
   },
   "outputs": [
    {
     "name": "stdout",
     "output_type": "stream",
     "text": [
      "Epoch 1/100\n"
     ]
    },
    {
     "name": "stderr",
     "output_type": "stream",
     "text": [
      "2023-06-18 01:20:22.083289: W tensorflow/tsl/platform/profile_utils/cpu_utils.cc:128] Failed to get CPU frequency: 0 Hz\n"
     ]
    },
    {
     "name": "stdout",
     "output_type": "stream",
     "text": [
      "14/14 [==============================] - 0s 16ms/step - loss: 0.5741 - accuracy: 0.7327 - val_loss: 0.4345 - val_accuracy: 0.8693\n",
      "Epoch 2/100\n",
      "14/14 [==============================] - 0s 2ms/step - loss: 0.3446 - accuracy: 0.8756 - val_loss: 0.2851 - val_accuracy: 0.9484\n",
      "Epoch 3/100\n",
      "14/14 [==============================] - 0s 2ms/step - loss: 0.2386 - accuracy: 0.8901 - val_loss: 0.2071 - val_accuracy: 0.8827\n",
      "Epoch 4/100\n",
      "14/14 [==============================] - 0s 2ms/step - loss: 0.1771 - accuracy: 0.9093 - val_loss: 0.1648 - val_accuracy: 0.9511\n",
      "Epoch 5/100\n",
      "14/14 [==============================] - 0s 3ms/step - loss: 0.1400 - accuracy: 0.9766 - val_loss: 0.1386 - val_accuracy: 0.9458\n",
      "Epoch 6/100\n",
      "14/14 [==============================] - 0s 2ms/step - loss: 0.1163 - accuracy: 0.9828 - val_loss: 0.1251 - val_accuracy: 0.9849\n",
      "Epoch 7/100\n",
      "14/14 [==============================] - 0s 2ms/step - loss: 0.1000 - accuracy: 0.9932 - val_loss: 0.1149 - val_accuracy: 0.9849\n",
      "Epoch 8/100\n",
      "14/14 [==============================] - 0s 2ms/step - loss: 0.0908 - accuracy: 0.9914 - val_loss: 0.1001 - val_accuracy: 0.9884\n",
      "Epoch 9/100\n",
      "14/14 [==============================] - 0s 2ms/step - loss: 0.0801 - accuracy: 0.9923 - val_loss: 0.0916 - val_accuracy: 0.9893\n",
      "Epoch 10/100\n",
      "14/14 [==============================] - 0s 2ms/step - loss: 0.0709 - accuracy: 0.9932 - val_loss: 0.0847 - val_accuracy: 0.9893\n",
      "Epoch 11/100\n",
      "14/14 [==============================] - 0s 2ms/step - loss: 0.0636 - accuracy: 0.9932 - val_loss: 0.0857 - val_accuracy: 0.9867\n",
      "Epoch 12/100\n",
      "14/14 [==============================] - 0s 2ms/step - loss: 0.0599 - accuracy: 0.9935 - val_loss: 0.0791 - val_accuracy: 0.9867\n",
      "Epoch 13/100\n",
      "14/14 [==============================] - 0s 2ms/step - loss: 0.0528 - accuracy: 0.9935 - val_loss: 0.0698 - val_accuracy: 0.9893\n",
      "Epoch 14/100\n",
      "14/14 [==============================] - 0s 3ms/step - loss: 0.0494 - accuracy: 0.9938 - val_loss: 0.0670 - val_accuracy: 0.9902\n",
      "Epoch 15/100\n",
      "14/14 [==============================] - 0s 3ms/step - loss: 0.0452 - accuracy: 0.9941 - val_loss: 0.0598 - val_accuracy: 0.9902\n",
      "Epoch 16/100\n",
      "14/14 [==============================] - 0s 3ms/step - loss: 0.0413 - accuracy: 0.9941 - val_loss: 0.0590 - val_accuracy: 0.9902\n",
      "Epoch 17/100\n",
      "14/14 [==============================] - 0s 3ms/step - loss: 0.0377 - accuracy: 0.9938 - val_loss: 0.0524 - val_accuracy: 0.9929\n",
      "Epoch 18/100\n",
      "14/14 [==============================] - 0s 3ms/step - loss: 0.0386 - accuracy: 0.9947 - val_loss: 0.0481 - val_accuracy: 0.9920\n",
      "Epoch 19/100\n",
      "14/14 [==============================] - 0s 3ms/step - loss: 0.0335 - accuracy: 0.9956 - val_loss: 0.0488 - val_accuracy: 0.9911\n",
      "Epoch 20/100\n",
      "14/14 [==============================] - 0s 2ms/step - loss: 0.0299 - accuracy: 0.9961 - val_loss: 0.0562 - val_accuracy: 0.9884\n",
      "Epoch 21/100\n",
      "14/14 [==============================] - 0s 3ms/step - loss: 0.0276 - accuracy: 0.9964 - val_loss: 0.0426 - val_accuracy: 0.9911\n",
      "Epoch 22/100\n",
      "14/14 [==============================] - 0s 3ms/step - loss: 0.0251 - accuracy: 0.9967 - val_loss: 0.0537 - val_accuracy: 0.9893\n",
      "Epoch 23/100\n",
      "14/14 [==============================] - 0s 2ms/step - loss: 0.0242 - accuracy: 0.9964 - val_loss: 0.0337 - val_accuracy: 0.9920\n",
      "Epoch 24/100\n",
      "14/14 [==============================] - 0s 3ms/step - loss: 0.0203 - accuracy: 0.9961 - val_loss: 0.0303 - val_accuracy: 0.9929\n",
      "Epoch 25/100\n",
      "14/14 [==============================] - 0s 3ms/step - loss: 0.0178 - accuracy: 0.9973 - val_loss: 0.0386 - val_accuracy: 0.9911\n",
      "Epoch 26/100\n",
      "14/14 [==============================] - 0s 3ms/step - loss: 0.0173 - accuracy: 0.9964 - val_loss: 0.0276 - val_accuracy: 0.9929\n",
      "Epoch 27/100\n",
      "14/14 [==============================] - 0s 2ms/step - loss: 0.0158 - accuracy: 0.9973 - val_loss: 0.0262 - val_accuracy: 0.9929\n",
      "Epoch 28/100\n",
      "14/14 [==============================] - 0s 2ms/step - loss: 0.0146 - accuracy: 0.9970 - val_loss: 0.0239 - val_accuracy: 0.9929\n",
      "Epoch 29/100\n",
      "14/14 [==============================] - 0s 2ms/step - loss: 0.0131 - accuracy: 0.9976 - val_loss: 0.0247 - val_accuracy: 0.9920\n",
      "Epoch 30/100\n",
      "14/14 [==============================] - 0s 2ms/step - loss: 0.0123 - accuracy: 0.9973 - val_loss: 0.0223 - val_accuracy: 0.9929\n",
      "Epoch 31/100\n",
      "14/14 [==============================] - 0s 3ms/step - loss: 0.0116 - accuracy: 0.9970 - val_loss: 0.0188 - val_accuracy: 0.9964\n",
      "Epoch 32/100\n",
      "14/14 [==============================] - 0s 3ms/step - loss: 0.0107 - accuracy: 0.9985 - val_loss: 0.0224 - val_accuracy: 0.9929\n",
      "Epoch 33/100\n",
      "14/14 [==============================] - 0s 2ms/step - loss: 0.0098 - accuracy: 0.9973 - val_loss: 0.0146 - val_accuracy: 0.9964\n",
      "Epoch 34/100\n",
      "14/14 [==============================] - 0s 3ms/step - loss: 0.0112 - accuracy: 0.9991 - val_loss: 0.0246 - val_accuracy: 0.9929\n",
      "Epoch 35/100\n",
      "14/14 [==============================] - 0s 3ms/step - loss: 0.0092 - accuracy: 0.9979 - val_loss: 0.0130 - val_accuracy: 0.9964\n",
      "Epoch 36/100\n",
      "14/14 [==============================] - 0s 3ms/step - loss: 0.0079 - accuracy: 0.9991 - val_loss: 0.0140 - val_accuracy: 0.9964\n",
      "Epoch 37/100\n",
      "14/14 [==============================] - 0s 3ms/step - loss: 0.0074 - accuracy: 0.9994 - val_loss: 0.0156 - val_accuracy: 0.9929\n",
      "Epoch 38/100\n",
      "14/14 [==============================] - 0s 3ms/step - loss: 0.0076 - accuracy: 0.9982 - val_loss: 0.0101 - val_accuracy: 0.9964\n",
      "Epoch 39/100\n",
      "14/14 [==============================] - 0s 3ms/step - loss: 0.0067 - accuracy: 0.9988 - val_loss: 0.0093 - val_accuracy: 0.9964\n",
      "Epoch 40/100\n",
      "14/14 [==============================] - 0s 3ms/step - loss: 0.0067 - accuracy: 0.9988 - val_loss: 0.0083 - val_accuracy: 1.0000\n",
      "Epoch 41/100\n",
      "14/14 [==============================] - 0s 3ms/step - loss: 0.0057 - accuracy: 0.9997 - val_loss: 0.0144 - val_accuracy: 0.9929\n",
      "Epoch 42/100\n",
      "14/14 [==============================] - 0s 3ms/step - loss: 0.0063 - accuracy: 0.9985 - val_loss: 0.0077 - val_accuracy: 0.9964\n",
      "Epoch 43/100\n",
      "14/14 [==============================] - 0s 3ms/step - loss: 0.0047 - accuracy: 0.9994 - val_loss: 0.0101 - val_accuracy: 0.9964\n",
      "Epoch 44/100\n",
      "14/14 [==============================] - 0s 4ms/step - loss: 0.0047 - accuracy: 0.9994 - val_loss: 0.0070 - val_accuracy: 0.9973\n",
      "Epoch 45/100\n",
      "14/14 [==============================] - 0s 3ms/step - loss: 0.0043 - accuracy: 0.9997 - val_loss: 0.0091 - val_accuracy: 0.9964\n",
      "Epoch 46/100\n",
      "14/14 [==============================] - 0s 2ms/step - loss: 0.0043 - accuracy: 0.9994 - val_loss: 0.0060 - val_accuracy: 0.9991\n",
      "Epoch 47/100\n",
      "14/14 [==============================] - 0s 2ms/step - loss: 0.0040 - accuracy: 0.9994 - val_loss: 0.0052 - val_accuracy: 1.0000\n",
      "Epoch 48/100\n",
      "14/14 [==============================] - 0s 2ms/step - loss: 0.0065 - accuracy: 1.0000 - val_loss: 0.0131 - val_accuracy: 0.9929\n",
      "Epoch 49/100\n",
      "14/14 [==============================] - 0s 2ms/step - loss: 0.0048 - accuracy: 0.9988 - val_loss: 0.0052 - val_accuracy: 1.0000\n",
      "Epoch 50/100\n",
      "14/14 [==============================] - 0s 2ms/step - loss: 0.0038 - accuracy: 0.9994 - val_loss: 0.0060 - val_accuracy: 0.9964\n",
      "Epoch 51/100\n",
      "14/14 [==============================] - 0s 2ms/step - loss: 0.0034 - accuracy: 1.0000 - val_loss: 0.0042 - val_accuracy: 1.0000\n",
      "Epoch 52/100\n",
      "14/14 [==============================] - 0s 2ms/step - loss: 0.0029 - accuracy: 0.9997 - val_loss: 0.0042 - val_accuracy: 1.0000\n",
      "Epoch 53/100\n",
      "14/14 [==============================] - 0s 2ms/step - loss: 0.0027 - accuracy: 1.0000 - val_loss: 0.0036 - val_accuracy: 1.0000\n",
      "Epoch 54/100\n",
      "14/14 [==============================] - 0s 2ms/step - loss: 0.0027 - accuracy: 1.0000 - val_loss: 0.0040 - val_accuracy: 1.0000\n",
      "Epoch 55/100\n",
      "14/14 [==============================] - 0s 2ms/step - loss: 0.0025 - accuracy: 0.9997 - val_loss: 0.0035 - val_accuracy: 1.0000\n",
      "Epoch 56/100\n",
      "14/14 [==============================] - 0s 2ms/step - loss: 0.0024 - accuracy: 1.0000 - val_loss: 0.0033 - val_accuracy: 1.0000\n",
      "Epoch 57/100\n",
      "14/14 [==============================] - 0s 2ms/step - loss: 0.0022 - accuracy: 1.0000 - val_loss: 0.0034 - val_accuracy: 1.0000\n",
      "Epoch 58/100\n",
      "14/14 [==============================] - 0s 2ms/step - loss: 0.0023 - accuracy: 1.0000 - val_loss: 0.0029 - val_accuracy: 1.0000\n",
      "Epoch 59/100\n",
      "14/14 [==============================] - 0s 2ms/step - loss: 0.0021 - accuracy: 1.0000 - val_loss: 0.0031 - val_accuracy: 1.0000\n",
      "Epoch 60/100\n",
      "14/14 [==============================] - 0s 2ms/step - loss: 0.0020 - accuracy: 1.0000 - val_loss: 0.0027 - val_accuracy: 1.0000\n",
      "Epoch 61/100\n",
      "14/14 [==============================] - 0s 2ms/step - loss: 0.0020 - accuracy: 1.0000 - val_loss: 0.0026 - val_accuracy: 1.0000\n",
      "Epoch 62/100\n",
      "14/14 [==============================] - 0s 2ms/step - loss: 0.0019 - accuracy: 1.0000 - val_loss: 0.0026 - val_accuracy: 1.0000\n",
      "Epoch 63/100\n",
      "14/14 [==============================] - 0s 2ms/step - loss: 0.0019 - accuracy: 1.0000 - val_loss: 0.0023 - val_accuracy: 1.0000\n",
      "Epoch 64/100\n",
      "14/14 [==============================] - 0s 2ms/step - loss: 0.0017 - accuracy: 1.0000 - val_loss: 0.0024 - val_accuracy: 1.0000\n",
      "Epoch 65/100\n",
      "14/14 [==============================] - 0s 2ms/step - loss: 0.0016 - accuracy: 1.0000 - val_loss: 0.0022 - val_accuracy: 1.0000\n",
      "Epoch 66/100\n",
      "14/14 [==============================] - 0s 2ms/step - loss: 0.0016 - accuracy: 1.0000 - val_loss: 0.0021 - val_accuracy: 1.0000\n",
      "Epoch 67/100\n",
      "14/14 [==============================] - 0s 2ms/step - loss: 0.0015 - accuracy: 1.0000 - val_loss: 0.0021 - val_accuracy: 1.0000\n",
      "Epoch 68/100\n",
      "14/14 [==============================] - 0s 2ms/step - loss: 0.0015 - accuracy: 1.0000 - val_loss: 0.0019 - val_accuracy: 1.0000\n",
      "Epoch 69/100\n",
      "14/14 [==============================] - 0s 2ms/step - loss: 0.0014 - accuracy: 1.0000 - val_loss: 0.0019 - val_accuracy: 1.0000\n",
      "Epoch 70/100\n",
      "14/14 [==============================] - 0s 2ms/step - loss: 0.0014 - accuracy: 1.0000 - val_loss: 0.0020 - val_accuracy: 1.0000\n",
      "Epoch 71/100\n",
      "14/14 [==============================] - 0s 2ms/step - loss: 0.0013 - accuracy: 1.0000 - val_loss: 0.0017 - val_accuracy: 1.0000\n",
      "Epoch 72/100\n",
      "14/14 [==============================] - 0s 2ms/step - loss: 0.0019 - accuracy: 1.0000 - val_loss: 0.0017 - val_accuracy: 1.0000\n",
      "Epoch 73/100\n",
      "14/14 [==============================] - 0s 2ms/step - loss: 0.0014 - accuracy: 0.9997 - val_loss: 0.0017 - val_accuracy: 1.0000\n",
      "Epoch 74/100\n",
      "14/14 [==============================] - 0s 2ms/step - loss: 0.0012 - accuracy: 1.0000 - val_loss: 0.0015 - val_accuracy: 1.0000\n",
      "Epoch 75/100\n",
      "14/14 [==============================] - 0s 2ms/step - loss: 0.0011 - accuracy: 1.0000 - val_loss: 0.0016 - val_accuracy: 1.0000\n",
      "Epoch 76/100\n",
      "14/14 [==============================] - 0s 2ms/step - loss: 0.0011 - accuracy: 1.0000 - val_loss: 0.0015 - val_accuracy: 1.0000\n",
      "Epoch 77/100\n",
      "14/14 [==============================] - 0s 2ms/step - loss: 0.0011 - accuracy: 1.0000 - val_loss: 0.0014 - val_accuracy: 1.0000\n",
      "Epoch 78/100\n",
      "14/14 [==============================] - 0s 2ms/step - loss: 0.0011 - accuracy: 1.0000 - val_loss: 0.0013 - val_accuracy: 1.0000\n",
      "Epoch 79/100\n",
      "14/14 [==============================] - 0s 2ms/step - loss: 9.9533e-04 - accuracy: 1.0000 - val_loss: 0.0015 - val_accuracy: 1.0000\n",
      "Epoch 80/100\n",
      "14/14 [==============================] - 0s 2ms/step - loss: 9.8442e-04 - accuracy: 1.0000 - val_loss: 0.0014 - val_accuracy: 1.0000\n",
      "Epoch 81/100\n",
      "14/14 [==============================] - 0s 2ms/step - loss: 9.8520e-04 - accuracy: 1.0000 - val_loss: 0.0012 - val_accuracy: 1.0000\n",
      "Epoch 82/100\n",
      "14/14 [==============================] - 0s 2ms/step - loss: 9.4663e-04 - accuracy: 1.0000 - val_loss: 0.0012 - val_accuracy: 1.0000\n",
      "Epoch 83/100\n",
      "14/14 [==============================] - 0s 2ms/step - loss: 9.1027e-04 - accuracy: 1.0000 - val_loss: 0.0013 - val_accuracy: 1.0000\n",
      "Epoch 84/100\n",
      "14/14 [==============================] - 0s 2ms/step - loss: 8.7419e-04 - accuracy: 1.0000 - val_loss: 0.0011 - val_accuracy: 1.0000\n",
      "Epoch 85/100\n",
      "14/14 [==============================] - 0s 2ms/step - loss: 8.4710e-04 - accuracy: 1.0000 - val_loss: 0.0012 - val_accuracy: 1.0000\n",
      "Epoch 86/100\n",
      "14/14 [==============================] - 0s 2ms/step - loss: 8.3814e-04 - accuracy: 1.0000 - val_loss: 0.0011 - val_accuracy: 1.0000\n",
      "Epoch 87/100\n",
      "14/14 [==============================] - 0s 2ms/step - loss: 8.0407e-04 - accuracy: 1.0000 - val_loss: 0.0011 - val_accuracy: 1.0000\n",
      "Epoch 88/100\n",
      "14/14 [==============================] - 0s 2ms/step - loss: 7.8739e-04 - accuracy: 1.0000 - val_loss: 0.0010 - val_accuracy: 1.0000\n",
      "Epoch 89/100\n",
      "14/14 [==============================] - 0s 2ms/step - loss: 7.7229e-04 - accuracy: 1.0000 - val_loss: 0.0010 - val_accuracy: 1.0000\n",
      "Epoch 90/100\n",
      "14/14 [==============================] - 0s 2ms/step - loss: 7.6753e-04 - accuracy: 1.0000 - val_loss: 9.4604e-04 - val_accuracy: 1.0000\n",
      "Epoch 91/100\n",
      "14/14 [==============================] - 0s 2ms/step - loss: 7.3914e-04 - accuracy: 1.0000 - val_loss: 9.7879e-04 - val_accuracy: 1.0000\n",
      "Epoch 92/100\n",
      "14/14 [==============================] - 0s 2ms/step - loss: 7.3423e-04 - accuracy: 1.0000 - val_loss: 8.8945e-04 - val_accuracy: 1.0000\n",
      "Epoch 93/100\n",
      "14/14 [==============================] - 0s 2ms/step - loss: 6.9072e-04 - accuracy: 1.0000 - val_loss: 9.8501e-04 - val_accuracy: 1.0000\n",
      "Epoch 94/100\n",
      "14/14 [==============================] - 0s 2ms/step - loss: 6.8858e-04 - accuracy: 1.0000 - val_loss: 8.5801e-04 - val_accuracy: 1.0000\n",
      "Epoch 95/100\n",
      "14/14 [==============================] - 0s 3ms/step - loss: 7.8882e-04 - accuracy: 1.0000 - val_loss: 7.8414e-04 - val_accuracy: 1.0000\n",
      "Epoch 96/100\n",
      "14/14 [==============================] - 0s 3ms/step - loss: 6.5649e-04 - accuracy: 1.0000 - val_loss: 8.4358e-04 - val_accuracy: 1.0000\n",
      "Epoch 97/100\n",
      "14/14 [==============================] - 0s 3ms/step - loss: 6.1224e-04 - accuracy: 1.0000 - val_loss: 7.5776e-04 - val_accuracy: 1.0000\n",
      "Epoch 98/100\n",
      "14/14 [==============================] - 0s 2ms/step - loss: 5.9873e-04 - accuracy: 1.0000 - val_loss: 7.1574e-04 - val_accuracy: 1.0000\n",
      "Epoch 99/100\n",
      "14/14 [==============================] - 0s 2ms/step - loss: 5.9613e-04 - accuracy: 1.0000 - val_loss: 7.0130e-04 - val_accuracy: 1.0000\n",
      "Epoch 100/100\n",
      "14/14 [==============================] - 0s 2ms/step - loss: 5.5978e-04 - accuracy: 1.0000 - val_loss: 6.6775e-04 - val_accuracy: 1.0000\n"
     ]
    }
   ],
   "source": [
    "losses = model.fit(X_train, Y_train,\n",
    "                   validation_data=(X_val, Y_val),\n",
    "                    \n",
    "                   # it will use 'batch_size' number\n",
    "                   # of examples per example\n",
    "                   batch_size=256,\n",
    "                   epochs=100,  # total epoch\n",
    " \n",
    "                   )"
   ]
  },
  {
   "cell_type": "markdown",
   "id": "6476223d-9448-4eb7-a735-c8f5c454cbea",
   "metadata": {},
   "source": [
    "Test the accuracy and we can see that we are perfect, which I would expect since there isn't much ambiguity."
   ]
  },
  {
   "cell_type": "code",
   "execution_count": 12,
   "id": "b6fbb21f-ab22-42ac-b634-f809d826c463",
   "metadata": {},
   "outputs": [
    {
     "name": "stdout",
     "output_type": "stream",
     "text": [
      "36/36 - 0s - loss: 6.6775e-04 - accuracy: 1.0000 - 31ms/epoch - 847us/step\n",
      "\n",
      "Test accuracy: 1.0\n"
     ]
    }
   ],
   "source": [
    "test_loss, test_acc = model.evaluate(X_val,  Y_val, verbose=2)\n",
    "\n",
    "print('\\nTest accuracy:', test_acc)"
   ]
  },
  {
   "cell_type": "code",
   "execution_count": 13,
   "id": "2b287a29-299b-4db5-8243-347c6c08f991",
   "metadata": {},
   "outputs": [],
   "source": [
    "probability_model = tf.keras.Sequential([model, \n",
    "                                         tf.keras.layers.Softmax()])"
   ]
  },
  {
   "cell_type": "code",
   "execution_count": 14,
   "id": "a2de8297-e66a-4ee2-a9f5-aa90214e3f57",
   "metadata": {},
   "outputs": [
    {
     "name": "stdout",
     "output_type": "stream",
     "text": [
      "36/36 [==============================] - 0s 591us/step\n"
     ]
    }
   ],
   "source": [
    "predictions = probability_model.predict(X_val)\n"
   ]
  },
  {
   "cell_type": "markdown",
   "id": "ca9cabc2-3cd0-4122-a670-5b1f39f9f7f1",
   "metadata": {},
   "source": [
    "Let us now use the model.  We'll generate a molecule, remove the bonds, then use the model to add the back in. "
   ]
  },
  {
   "cell_type": "code",
   "execution_count": 15,
   "id": "9e6c1b49-a2a2-4ffa-a002-56829db8a945",
   "metadata": {},
   "outputs": [],
   "source": [
    "def add_bonds(comp1, prob_model):\n",
    "        \n",
    "    particles = [p for p in comp1.particles()]\n",
    "    \n",
    "    input_list = []\n",
    "    pairs = []\n",
    "    for i in range(0, len(particles)-1):\n",
    "        for j in range(i+1, len(particles)):\n",
    "            p1 = particles[i]\n",
    "            p2 = particles[j]\n",
    "            \n",
    "            distance = np.linalg.norm(p1.xyz-p2.xyz)\n",
    "\n",
    "            if distance < 0.5:\n",
    "                temp_dict = {'A': p1.element.atomic_number, 'B': p2.element.atomic_number, \n",
    "                         'dist': distance*10}\n",
    "                input_list.append(temp_dict)\n",
    "                pairs.append((p1, p2))\n",
    "                \n",
    "                \n",
    "    test = pd.DataFrame(input_list)\n",
    "    \n",
    "    val = prob_model.predict(test)\n",
    "    \n",
    "    for i in range(0, len(val)):\n",
    "        if np.argmax(val[i]) == 1:\n",
    "            comp1.add_bond((pairs[i]))\n",
    "            \n",
    "    return comp1"
   ]
  },
  {
   "cell_type": "code",
   "execution_count": 16,
   "id": "8076c089-a00e-42cc-a752-9f72dfa90f8e",
   "metadata": {},
   "outputs": [],
   "source": [
    "original = mb.load('C1CCCCC1CO', smiles=True)\n",
    "no_bonds = mb.clone(original)\n",
    "\n",
    "for bond in no_bonds.bonds():\n",
    "    no_bonds.remove_bond(bond)"
   ]
  },
  {
   "cell_type": "code",
   "execution_count": 17,
   "id": "bb15e9d3-571b-4328-9b3a-6a1817474f7f",
   "metadata": {},
   "outputs": [
    {
     "data": {
      "application/3dmoljs_load.v0": "<div id=\"3dmolviewer_1687076459543106\"  style=\"position: relative; width: 640px; height: 480px\">\n        <p id=\"3dmolwarning_1687076459543106\" style=\"background-color:#ffcccc;color:black\">You appear to be running in JupyterLab (or JavaScript failed to load for some other reason).  You need to install the 3dmol extension: <br>\n        <tt>jupyter labextension install jupyterlab_3dmol</tt></p>\n        </div>\n<script>\n\nvar loadScriptAsync = function(uri){\n  return new Promise((resolve, reject) => {\n    //this is to ignore the existence of requirejs amd\n    var savedexports, savedmodule;\n    if (typeof exports !== 'undefined') savedexports = exports;\n    else exports = {}\n    if (typeof module !== 'undefined') savedmodule = module;\n    else module = {}\n\n    var tag = document.createElement('script');\n    tag.src = uri;\n    tag.async = true;\n    tag.onload = () => {\n        exports = savedexports;\n        module = savedmodule;\n        resolve();\n    };\n  var firstScriptTag = document.getElementsByTagName('script')[0];\n  firstScriptTag.parentNode.insertBefore(tag, firstScriptTag);\n});\n};\n\nif(typeof $3Dmolpromise === 'undefined') {\n$3Dmolpromise = null;\n  $3Dmolpromise = loadScriptAsync('https://cdnjs.cloudflare.com/ajax/libs/3Dmol/2.0.1/3Dmol-min.js');\n}\n\nvar viewer_1687076459543106 = null;\nvar warn = document.getElementById(\"3dmolwarning_1687076459543106\");\nif(warn) {\n    warn.parentNode.removeChild(warn);\n}\n$3Dmolpromise.then(function() {\nviewer_1687076459543106 = $3Dmol.createViewer(document.getElementById(\"3dmolviewer_1687076459543106\"),{backgroundColor:\"white\"});\nviewer_1687076459543106.zoomTo();\n\tviewer_1687076459543106.addModel(\"@<TRIPOS>MOLECULE\\nC\\n22 0 22 0 1\\nPROTEIN\\nNO_CHARGES\\n@<TRIPOS>CRYSIN\\n   10.7291     8.7983     9.1931    90.0000    90.0000    90.0000 1 1\\n@<TRIPOS>ATOM\\n       1 C            0.0258    -0.8086     1.1046 C             1 C       \\n       2 C            1.4955    -0.3779     1.1242 C             2 C       \\n       3 C            2.0187    -0.0670    -0.2932 C             3 C       \\n       4 C            0.9179     0.3949    -1.2689 C             4 C       \\n       5 C           -0.1911     1.1710    -0.5479 C             5 C       \\n       6 C           -0.8809     0.3231     0.5574 C             6 C       \\n       7 C           -2.2443    -0.2324     0.1005 C             7 C       \\n       8 O           -2.1015    -1.1190    -0.9784 O             8 O       \\n       9 H           -0.0631    -1.7252     0.4807 H             9 H       \\n      10 H           -0.2943    -1.0742     2.1357 H            10 H       \\n      11 H            2.1131    -1.1818     1.5800 H            11 H       \\n      12 H            1.5972     0.5264     1.7642 H            12 H       \\n      13 H            2.5057    -0.9739    -0.7136 H            13 H       \\n      14 H            2.7992     0.7214    -0.2191 H            14 H       \\n      15 H            1.3680     1.0359    -2.0575 H            15 H       \\n      16 H            0.4743    -0.4910    -1.7732 H            16 H       \\n      17 H            0.2648     2.0731    -0.0825 H            17 H       \\n      18 H           -0.9299     1.5398    -1.2921 H            18 H       \\n      19 H           -1.0920     1.0126     1.4059 H            19 H       \\n      20 H           -2.9299     0.6061    -0.1642 H            20 H       \\n      21 H           -2.7164    -0.7789     0.9449 H            21 H       \\n      22 H           -2.1370    -0.5745    -1.8073 H            22 H       \\n@<TRIPOS>BOND\\n@<TRIPOS>SUBSTRUCTURE\\n       1 C               1 RESIDUE    0 **** ROOT      0\\n       2 C               2 RESIDUE    0 **** ROOT      0\\n       3 C               3 RESIDUE    0 **** ROOT      0\\n       4 C               4 RESIDUE    0 **** ROOT      0\\n       5 C               5 RESIDUE    0 **** ROOT      0\\n       6 C               6 RESIDUE    0 **** ROOT      0\\n       7 C               7 RESIDUE    0 **** ROOT      0\\n       8 O               8 RESIDUE    0 **** ROOT      0\\n       9 H               9 RESIDUE    0 **** ROOT      0\\n      10 H              10 RESIDUE    0 **** ROOT      0\\n      11 H              11 RESIDUE    0 **** ROOT      0\\n      12 H              12 RESIDUE    0 **** ROOT      0\\n      13 H              13 RESIDUE    0 **** ROOT      0\\n      14 H              14 RESIDUE    0 **** ROOT      0\\n      15 H              15 RESIDUE    0 **** ROOT      0\\n      16 H              16 RESIDUE    0 **** ROOT      0\\n      17 H              17 RESIDUE    0 **** ROOT      0\\n      18 H              18 RESIDUE    0 **** ROOT      0\\n      19 H              19 RESIDUE    0 **** ROOT      0\\n      20 H              20 RESIDUE    0 **** ROOT      0\\n      21 H              21 RESIDUE    0 **** ROOT      0\\n      22 H              22 RESIDUE    0 **** ROOT      0\\n\",\"mol2\");\n\tviewer_1687076459543106.setStyle({\"stick\": {\"radius\": 0.2, \"color\": \"grey\"}, \"sphere\": {\"scale\": 0.3, \"colorscheme\": {}}});\n\tviewer_1687076459543106.zoomTo();\nviewer_1687076459543106.render();\n});\n</script>",
      "text/html": [
       "<div id=\"3dmolviewer_1687076459543106\"  style=\"position: relative; width: 640px; height: 480px\">\n",
       "        <p id=\"3dmolwarning_1687076459543106\" style=\"background-color:#ffcccc;color:black\">You appear to be running in JupyterLab (or JavaScript failed to load for some other reason).  You need to install the 3dmol extension: <br>\n",
       "        <tt>jupyter labextension install jupyterlab_3dmol</tt></p>\n",
       "        </div>\n",
       "<script>\n",
       "\n",
       "var loadScriptAsync = function(uri){\n",
       "  return new Promise((resolve, reject) => {\n",
       "    //this is to ignore the existence of requirejs amd\n",
       "    var savedexports, savedmodule;\n",
       "    if (typeof exports !== 'undefined') savedexports = exports;\n",
       "    else exports = {}\n",
       "    if (typeof module !== 'undefined') savedmodule = module;\n",
       "    else module = {}\n",
       "\n",
       "    var tag = document.createElement('script');\n",
       "    tag.src = uri;\n",
       "    tag.async = true;\n",
       "    tag.onload = () => {\n",
       "        exports = savedexports;\n",
       "        module = savedmodule;\n",
       "        resolve();\n",
       "    };\n",
       "  var firstScriptTag = document.getElementsByTagName('script')[0];\n",
       "  firstScriptTag.parentNode.insertBefore(tag, firstScriptTag);\n",
       "});\n",
       "};\n",
       "\n",
       "if(typeof $3Dmolpromise === 'undefined') {\n",
       "$3Dmolpromise = null;\n",
       "  $3Dmolpromise = loadScriptAsync('https://cdnjs.cloudflare.com/ajax/libs/3Dmol/2.0.1/3Dmol-min.js');\n",
       "}\n",
       "\n",
       "var viewer_1687076459543106 = null;\n",
       "var warn = document.getElementById(\"3dmolwarning_1687076459543106\");\n",
       "if(warn) {\n",
       "    warn.parentNode.removeChild(warn);\n",
       "}\n",
       "$3Dmolpromise.then(function() {\n",
       "viewer_1687076459543106 = $3Dmol.createViewer(document.getElementById(\"3dmolviewer_1687076459543106\"),{backgroundColor:\"white\"});\n",
       "viewer_1687076459543106.zoomTo();\n",
       "\tviewer_1687076459543106.addModel(\"@<TRIPOS>MOLECULE\\nC\\n22 0 22 0 1\\nPROTEIN\\nNO_CHARGES\\n@<TRIPOS>CRYSIN\\n   10.7291     8.7983     9.1931    90.0000    90.0000    90.0000 1 1\\n@<TRIPOS>ATOM\\n       1 C            0.0258    -0.8086     1.1046 C             1 C       \\n       2 C            1.4955    -0.3779     1.1242 C             2 C       \\n       3 C            2.0187    -0.0670    -0.2932 C             3 C       \\n       4 C            0.9179     0.3949    -1.2689 C             4 C       \\n       5 C           -0.1911     1.1710    -0.5479 C             5 C       \\n       6 C           -0.8809     0.3231     0.5574 C             6 C       \\n       7 C           -2.2443    -0.2324     0.1005 C             7 C       \\n       8 O           -2.1015    -1.1190    -0.9784 O             8 O       \\n       9 H           -0.0631    -1.7252     0.4807 H             9 H       \\n      10 H           -0.2943    -1.0742     2.1357 H            10 H       \\n      11 H            2.1131    -1.1818     1.5800 H            11 H       \\n      12 H            1.5972     0.5264     1.7642 H            12 H       \\n      13 H            2.5057    -0.9739    -0.7136 H            13 H       \\n      14 H            2.7992     0.7214    -0.2191 H            14 H       \\n      15 H            1.3680     1.0359    -2.0575 H            15 H       \\n      16 H            0.4743    -0.4910    -1.7732 H            16 H       \\n      17 H            0.2648     2.0731    -0.0825 H            17 H       \\n      18 H           -0.9299     1.5398    -1.2921 H            18 H       \\n      19 H           -1.0920     1.0126     1.4059 H            19 H       \\n      20 H           -2.9299     0.6061    -0.1642 H            20 H       \\n      21 H           -2.7164    -0.7789     0.9449 H            21 H       \\n      22 H           -2.1370    -0.5745    -1.8073 H            22 H       \\n@<TRIPOS>BOND\\n@<TRIPOS>SUBSTRUCTURE\\n       1 C               1 RESIDUE    0 **** ROOT      0\\n       2 C               2 RESIDUE    0 **** ROOT      0\\n       3 C               3 RESIDUE    0 **** ROOT      0\\n       4 C               4 RESIDUE    0 **** ROOT      0\\n       5 C               5 RESIDUE    0 **** ROOT      0\\n       6 C               6 RESIDUE    0 **** ROOT      0\\n       7 C               7 RESIDUE    0 **** ROOT      0\\n       8 O               8 RESIDUE    0 **** ROOT      0\\n       9 H               9 RESIDUE    0 **** ROOT      0\\n      10 H              10 RESIDUE    0 **** ROOT      0\\n      11 H              11 RESIDUE    0 **** ROOT      0\\n      12 H              12 RESIDUE    0 **** ROOT      0\\n      13 H              13 RESIDUE    0 **** ROOT      0\\n      14 H              14 RESIDUE    0 **** ROOT      0\\n      15 H              15 RESIDUE    0 **** ROOT      0\\n      16 H              16 RESIDUE    0 **** ROOT      0\\n      17 H              17 RESIDUE    0 **** ROOT      0\\n      18 H              18 RESIDUE    0 **** ROOT      0\\n      19 H              19 RESIDUE    0 **** ROOT      0\\n      20 H              20 RESIDUE    0 **** ROOT      0\\n      21 H              21 RESIDUE    0 **** ROOT      0\\n      22 H              22 RESIDUE    0 **** ROOT      0\\n\",\"mol2\");\n",
       "\tviewer_1687076459543106.setStyle({\"stick\": {\"radius\": 0.2, \"color\": \"grey\"}, \"sphere\": {\"scale\": 0.3, \"colorscheme\": {}}});\n",
       "\tviewer_1687076459543106.zoomTo();\n",
       "viewer_1687076459543106.render();\n",
       "});\n",
       "</script>"
      ]
     },
     "metadata": {},
     "output_type": "display_data"
    },
    {
     "data": {
      "text/plain": [
       "<py3Dmol.view at 0x2856d3670>"
      ]
     },
     "execution_count": 17,
     "metadata": {},
     "output_type": "execute_result"
    }
   ],
   "source": [
    "no_bonds.visualize()"
   ]
  },
  {
   "cell_type": "code",
   "execution_count": 18,
   "id": "98250bc6-1abc-42c6-95be-a8bd6fb5bcdd",
   "metadata": {},
   "outputs": [
    {
     "name": "stdout",
     "output_type": "stream",
     "text": [
      "7/7 [==============================] - 0s 1ms/step\n"
     ]
    },
    {
     "data": {
      "application/3dmoljs_load.v0": "<div id=\"3dmolviewer_1687076460300456\"  style=\"position: relative; width: 640px; height: 480px\">\n        <p id=\"3dmolwarning_1687076460300456\" style=\"background-color:#ffcccc;color:black\">You appear to be running in JupyterLab (or JavaScript failed to load for some other reason).  You need to install the 3dmol extension: <br>\n        <tt>jupyter labextension install jupyterlab_3dmol</tt></p>\n        </div>\n<script>\n\nvar loadScriptAsync = function(uri){\n  return new Promise((resolve, reject) => {\n    //this is to ignore the existence of requirejs amd\n    var savedexports, savedmodule;\n    if (typeof exports !== 'undefined') savedexports = exports;\n    else exports = {}\n    if (typeof module !== 'undefined') savedmodule = module;\n    else module = {}\n\n    var tag = document.createElement('script');\n    tag.src = uri;\n    tag.async = true;\n    tag.onload = () => {\n        exports = savedexports;\n        module = savedmodule;\n        resolve();\n    };\n  var firstScriptTag = document.getElementsByTagName('script')[0];\n  firstScriptTag.parentNode.insertBefore(tag, firstScriptTag);\n});\n};\n\nif(typeof $3Dmolpromise === 'undefined') {\n$3Dmolpromise = null;\n  $3Dmolpromise = loadScriptAsync('https://cdnjs.cloudflare.com/ajax/libs/3Dmol/2.0.1/3Dmol-min.js');\n}\n\nvar viewer_1687076460300456 = null;\nvar warn = document.getElementById(\"3dmolwarning_1687076460300456\");\nif(warn) {\n    warn.parentNode.removeChild(warn);\n}\n$3Dmolpromise.then(function() {\nviewer_1687076460300456 = $3Dmol.createViewer(document.getElementById(\"3dmolviewer_1687076460300456\"),{backgroundColor:\"white\"});\nviewer_1687076460300456.zoomTo();\n\tviewer_1687076460300456.addModel(\"@<TRIPOS>MOLECULE\\nCompound\\n22 22 1 0 1\\nSMALL\\nNO_CHARGES\\n@<TRIPOS>CRYSIN\\n   10.7291     8.7983     9.1931    90.0000    90.0000    90.0000 1 1\\n@<TRIPOS>ATOM\\n       1 C            0.0258    -0.8086     1.1046 C             1 Compound\\n       2 C            1.4955    -0.3779     1.1242 C             1 Compound\\n       3 C            2.0187    -0.0670    -0.2932 C             1 Compound\\n       4 C            0.9179     0.3949    -1.2689 C             1 Compound\\n       5 C           -0.1911     1.1710    -0.5479 C             1 Compound\\n       6 C           -0.8809     0.3231     0.5574 C             1 Compound\\n       7 C           -2.2443    -0.2324     0.1005 C             1 Compound\\n       8 O           -2.1015    -1.1190    -0.9784 O             1 Compound\\n       9 H           -0.0631    -1.7252     0.4807 H             1 Compound\\n      10 H           -0.2943    -1.0742     2.1357 H             1 Compound\\n      11 H            2.1131    -1.1818     1.5800 H             1 Compound\\n      12 H            1.5972     0.5264     1.7642 H             1 Compound\\n      13 H            2.5057    -0.9739    -0.7136 H             1 Compound\\n      14 H            2.7992     0.7214    -0.2191 H             1 Compound\\n      15 H            1.3680     1.0359    -2.0575 H             1 Compound\\n      16 H            0.4743    -0.4910    -1.7732 H             1 Compound\\n      17 H            0.2648     2.0731    -0.0825 H             1 Compound\\n      18 H           -0.9299     1.5398    -1.2921 H             1 Compound\\n      19 H           -1.0920     1.0126     1.4059 H             1 Compound\\n      20 H           -2.9299     0.6061    -0.1642 H             1 Compound\\n      21 H           -2.7164    -0.7789     0.9449 H             1 Compound\\n      22 H           -2.1370    -0.5745    -1.8073 H             1 Compound\\n@<TRIPOS>BOND\\n       1        1        2 1\\n       2        1        6 1\\n       3        1        9 1\\n       4        1       10 1\\n       5        2        3 1\\n       6        2       11 1\\n       7        2       12 1\\n       8        3        4 1\\n       9        3       13 1\\n      10        3       14 1\\n      11        4        5 1\\n      12        4       15 1\\n      13        4       16 1\\n      14        5        6 1\\n      15        5       17 1\\n      16        5       18 1\\n      17        6        7 1\\n      18        6       19 1\\n      19        7        8 1\\n      20        7       20 1\\n      21        7       21 1\\n      22        8       22 1\\n@<TRIPOS>SUBSTRUCTURE\\n       1 Compound        1 RESIDUE    0 **** ROOT      0\\n\",\"mol2\");\n\tviewer_1687076460300456.setStyle({\"stick\": {\"radius\": 0.2, \"color\": \"grey\"}, \"sphere\": {\"scale\": 0.3, \"colorscheme\": {}}});\n\tviewer_1687076460300456.zoomTo();\nviewer_1687076460300456.render();\n});\n</script>",
      "text/html": [
       "<div id=\"3dmolviewer_1687076460300456\"  style=\"position: relative; width: 640px; height: 480px\">\n",
       "        <p id=\"3dmolwarning_1687076460300456\" style=\"background-color:#ffcccc;color:black\">You appear to be running in JupyterLab (or JavaScript failed to load for some other reason).  You need to install the 3dmol extension: <br>\n",
       "        <tt>jupyter labextension install jupyterlab_3dmol</tt></p>\n",
       "        </div>\n",
       "<script>\n",
       "\n",
       "var loadScriptAsync = function(uri){\n",
       "  return new Promise((resolve, reject) => {\n",
       "    //this is to ignore the existence of requirejs amd\n",
       "    var savedexports, savedmodule;\n",
       "    if (typeof exports !== 'undefined') savedexports = exports;\n",
       "    else exports = {}\n",
       "    if (typeof module !== 'undefined') savedmodule = module;\n",
       "    else module = {}\n",
       "\n",
       "    var tag = document.createElement('script');\n",
       "    tag.src = uri;\n",
       "    tag.async = true;\n",
       "    tag.onload = () => {\n",
       "        exports = savedexports;\n",
       "        module = savedmodule;\n",
       "        resolve();\n",
       "    };\n",
       "  var firstScriptTag = document.getElementsByTagName('script')[0];\n",
       "  firstScriptTag.parentNode.insertBefore(tag, firstScriptTag);\n",
       "});\n",
       "};\n",
       "\n",
       "if(typeof $3Dmolpromise === 'undefined') {\n",
       "$3Dmolpromise = null;\n",
       "  $3Dmolpromise = loadScriptAsync('https://cdnjs.cloudflare.com/ajax/libs/3Dmol/2.0.1/3Dmol-min.js');\n",
       "}\n",
       "\n",
       "var viewer_1687076460300456 = null;\n",
       "var warn = document.getElementById(\"3dmolwarning_1687076460300456\");\n",
       "if(warn) {\n",
       "    warn.parentNode.removeChild(warn);\n",
       "}\n",
       "$3Dmolpromise.then(function() {\n",
       "viewer_1687076460300456 = $3Dmol.createViewer(document.getElementById(\"3dmolviewer_1687076460300456\"),{backgroundColor:\"white\"});\n",
       "viewer_1687076460300456.zoomTo();\n",
       "\tviewer_1687076460300456.addModel(\"@<TRIPOS>MOLECULE\\nCompound\\n22 22 1 0 1\\nSMALL\\nNO_CHARGES\\n@<TRIPOS>CRYSIN\\n   10.7291     8.7983     9.1931    90.0000    90.0000    90.0000 1 1\\n@<TRIPOS>ATOM\\n       1 C            0.0258    -0.8086     1.1046 C             1 Compound\\n       2 C            1.4955    -0.3779     1.1242 C             1 Compound\\n       3 C            2.0187    -0.0670    -0.2932 C             1 Compound\\n       4 C            0.9179     0.3949    -1.2689 C             1 Compound\\n       5 C           -0.1911     1.1710    -0.5479 C             1 Compound\\n       6 C           -0.8809     0.3231     0.5574 C             1 Compound\\n       7 C           -2.2443    -0.2324     0.1005 C             1 Compound\\n       8 O           -2.1015    -1.1190    -0.9784 O             1 Compound\\n       9 H           -0.0631    -1.7252     0.4807 H             1 Compound\\n      10 H           -0.2943    -1.0742     2.1357 H             1 Compound\\n      11 H            2.1131    -1.1818     1.5800 H             1 Compound\\n      12 H            1.5972     0.5264     1.7642 H             1 Compound\\n      13 H            2.5057    -0.9739    -0.7136 H             1 Compound\\n      14 H            2.7992     0.7214    -0.2191 H             1 Compound\\n      15 H            1.3680     1.0359    -2.0575 H             1 Compound\\n      16 H            0.4743    -0.4910    -1.7732 H             1 Compound\\n      17 H            0.2648     2.0731    -0.0825 H             1 Compound\\n      18 H           -0.9299     1.5398    -1.2921 H             1 Compound\\n      19 H           -1.0920     1.0126     1.4059 H             1 Compound\\n      20 H           -2.9299     0.6061    -0.1642 H             1 Compound\\n      21 H           -2.7164    -0.7789     0.9449 H             1 Compound\\n      22 H           -2.1370    -0.5745    -1.8073 H             1 Compound\\n@<TRIPOS>BOND\\n       1        1        2 1\\n       2        1        6 1\\n       3        1        9 1\\n       4        1       10 1\\n       5        2        3 1\\n       6        2       11 1\\n       7        2       12 1\\n       8        3        4 1\\n       9        3       13 1\\n      10        3       14 1\\n      11        4        5 1\\n      12        4       15 1\\n      13        4       16 1\\n      14        5        6 1\\n      15        5       17 1\\n      16        5       18 1\\n      17        6        7 1\\n      18        6       19 1\\n      19        7        8 1\\n      20        7       20 1\\n      21        7       21 1\\n      22        8       22 1\\n@<TRIPOS>SUBSTRUCTURE\\n       1 Compound        1 RESIDUE    0 **** ROOT      0\\n\",\"mol2\");\n",
       "\tviewer_1687076460300456.setStyle({\"stick\": {\"radius\": 0.2, \"color\": \"grey\"}, \"sphere\": {\"scale\": 0.3, \"colorscheme\": {}}});\n",
       "\tviewer_1687076460300456.zoomTo();\n",
       "viewer_1687076460300456.render();\n",
       "});\n",
       "</script>"
      ]
     },
     "metadata": {},
     "output_type": "display_data"
    },
    {
     "data": {
      "text/plain": [
       "<py3Dmol.view at 0x28577dd80>"
      ]
     },
     "execution_count": 18,
     "metadata": {},
     "output_type": "execute_result"
    }
   ],
   "source": [
    "mol_with_bonds = add_bonds(no_bonds, probability_model)\n",
    "mol_with_bonds.visualize()"
   ]
  },
  {
   "cell_type": "markdown",
   "id": "52e310f3-bf9f-4dbe-a171-5932a1c467b7",
   "metadata": {},
   "source": [
    "Let us try something with Cl atoms; we don't have many molecules with Cl in our data set, so not sure how well it will do. "
   ]
  },
  {
   "cell_type": "code",
   "execution_count": 19,
   "id": "9803f0cb-8099-4a37-b0a3-d8b697762d62",
   "metadata": {},
   "outputs": [],
   "source": [
    "original = mb.load('C1=CC(=C(C=C1Cl)Cl)Cl', smiles=True)\n",
    "no_bonds = mb.clone(original)\n",
    "\n",
    "for bond in no_bonds.bonds():\n",
    "    no_bonds.remove_bond(bond)\n",
    "    \n"
   ]
  },
  {
   "cell_type": "code",
   "execution_count": 21,
   "id": "d66fed92-4804-4864-be4a-5e899ad3478f",
   "metadata": {},
   "outputs": [
    {
     "name": "stdout",
     "output_type": "stream",
     "text": [
      "2/2 [==============================] - 0s 2ms/step\n"
     ]
    },
    {
     "data": {
      "application/3dmoljs_load.v0": "<div id=\"3dmolviewer_1687076557451642\"  style=\"position: relative; width: 640px; height: 480px\">\n        <p id=\"3dmolwarning_1687076557451642\" style=\"background-color:#ffcccc;color:black\">You appear to be running in JupyterLab (or JavaScript failed to load for some other reason).  You need to install the 3dmol extension: <br>\n        <tt>jupyter labextension install jupyterlab_3dmol</tt></p>\n        </div>\n<script>\n\nvar loadScriptAsync = function(uri){\n  return new Promise((resolve, reject) => {\n    //this is to ignore the existence of requirejs amd\n    var savedexports, savedmodule;\n    if (typeof exports !== 'undefined') savedexports = exports;\n    else exports = {}\n    if (typeof module !== 'undefined') savedmodule = module;\n    else module = {}\n\n    var tag = document.createElement('script');\n    tag.src = uri;\n    tag.async = true;\n    tag.onload = () => {\n        exports = savedexports;\n        module = savedmodule;\n        resolve();\n    };\n  var firstScriptTag = document.getElementsByTagName('script')[0];\n  firstScriptTag.parentNode.insertBefore(tag, firstScriptTag);\n});\n};\n\nif(typeof $3Dmolpromise === 'undefined') {\n$3Dmolpromise = null;\n  $3Dmolpromise = loadScriptAsync('https://cdnjs.cloudflare.com/ajax/libs/3Dmol/2.0.1/3Dmol-min.js');\n}\n\nvar viewer_1687076557451642 = null;\nvar warn = document.getElementById(\"3dmolwarning_1687076557451642\");\nif(warn) {\n    warn.parentNode.removeChild(warn);\n}\n$3Dmolpromise.then(function() {\nviewer_1687076557451642 = $3Dmol.createViewer(document.getElementById(\"3dmolviewer_1687076557451642\"),{backgroundColor:\"white\"});\nviewer_1687076557451642.zoomTo();\n\tviewer_1687076557451642.addModel(\"@<TRIPOS>MOLECULE\\nCompound\\n12 13 1 0 1\\nSMALL\\nNO_CHARGES\\n@<TRIPOS>CRYSIN\\n   10.4376     9.9483     6.0000    90.0000    90.0000    90.0000 1 1\\n@<TRIPOS>ATOM\\n       1 C           -1.3069     0.6325    -0.0247 C             1 Compound\\n       2 C           -0.1511     1.4184    -0.0041 C             1 Compound\\n       3 C            1.1121     0.8147     0.0197 C             1 Compound\\n       4 C            1.2153    -0.5878     0.0229 C             1 Compound\\n       5 C            0.0542    -1.3707     0.0023 C             1 Compound\\n       6 C           -1.2054    -0.7622    -0.0215 C             1 Compound\\n       7 Cl          -2.6563    -1.7478    -0.0472 Cl            1 Compound\\n       8 Cl           2.7813    -1.3870     0.0526 Cl            1 Compound\\n       9 Cl           2.5440     1.8350     0.0451 Cl            1 Compound\\n      10 H           -2.2792     1.1081    -0.0430 H             1 Compound\\n      11 H           -0.2385     2.4975    -0.0068 H             1 Compound\\n      12 H            0.1307    -2.4508     0.0048 H             1 Compound\\n@<TRIPOS>BOND\\n       1        1        2 1\\n       2        1        6 1\\n       3        1       10 1\\n       4        2        3 1\\n       5        2       11 1\\n       6        3        4 1\\n       7        3        9 1\\n       8        4        5 1\\n       9        4        8 1\\n      10        5        6 1\\n      11        5       12 1\\n      12        6        7 1\\n      13        8        9 1\\n@<TRIPOS>SUBSTRUCTURE\\n       1 Compound        1 RESIDUE    0 **** ROOT      0\\n\",\"mol2\");\n\tviewer_1687076557451642.setStyle({\"stick\": {\"radius\": 0.2, \"color\": \"grey\"}, \"sphere\": {\"scale\": 0.3, \"colorscheme\": {}}});\n\tviewer_1687076557451642.zoomTo();\nviewer_1687076557451642.render();\n});\n</script>",
      "text/html": [
       "<div id=\"3dmolviewer_1687076557451642\"  style=\"position: relative; width: 640px; height: 480px\">\n",
       "        <p id=\"3dmolwarning_1687076557451642\" style=\"background-color:#ffcccc;color:black\">You appear to be running in JupyterLab (or JavaScript failed to load for some other reason).  You need to install the 3dmol extension: <br>\n",
       "        <tt>jupyter labextension install jupyterlab_3dmol</tt></p>\n",
       "        </div>\n",
       "<script>\n",
       "\n",
       "var loadScriptAsync = function(uri){\n",
       "  return new Promise((resolve, reject) => {\n",
       "    //this is to ignore the existence of requirejs amd\n",
       "    var savedexports, savedmodule;\n",
       "    if (typeof exports !== 'undefined') savedexports = exports;\n",
       "    else exports = {}\n",
       "    if (typeof module !== 'undefined') savedmodule = module;\n",
       "    else module = {}\n",
       "\n",
       "    var tag = document.createElement('script');\n",
       "    tag.src = uri;\n",
       "    tag.async = true;\n",
       "    tag.onload = () => {\n",
       "        exports = savedexports;\n",
       "        module = savedmodule;\n",
       "        resolve();\n",
       "    };\n",
       "  var firstScriptTag = document.getElementsByTagName('script')[0];\n",
       "  firstScriptTag.parentNode.insertBefore(tag, firstScriptTag);\n",
       "});\n",
       "};\n",
       "\n",
       "if(typeof $3Dmolpromise === 'undefined') {\n",
       "$3Dmolpromise = null;\n",
       "  $3Dmolpromise = loadScriptAsync('https://cdnjs.cloudflare.com/ajax/libs/3Dmol/2.0.1/3Dmol-min.js');\n",
       "}\n",
       "\n",
       "var viewer_1687076557451642 = null;\n",
       "var warn = document.getElementById(\"3dmolwarning_1687076557451642\");\n",
       "if(warn) {\n",
       "    warn.parentNode.removeChild(warn);\n",
       "}\n",
       "$3Dmolpromise.then(function() {\n",
       "viewer_1687076557451642 = $3Dmol.createViewer(document.getElementById(\"3dmolviewer_1687076557451642\"),{backgroundColor:\"white\"});\n",
       "viewer_1687076557451642.zoomTo();\n",
       "\tviewer_1687076557451642.addModel(\"@<TRIPOS>MOLECULE\\nCompound\\n12 13 1 0 1\\nSMALL\\nNO_CHARGES\\n@<TRIPOS>CRYSIN\\n   10.4376     9.9483     6.0000    90.0000    90.0000    90.0000 1 1\\n@<TRIPOS>ATOM\\n       1 C           -1.3069     0.6325    -0.0247 C             1 Compound\\n       2 C           -0.1511     1.4184    -0.0041 C             1 Compound\\n       3 C            1.1121     0.8147     0.0197 C             1 Compound\\n       4 C            1.2153    -0.5878     0.0229 C             1 Compound\\n       5 C            0.0542    -1.3707     0.0023 C             1 Compound\\n       6 C           -1.2054    -0.7622    -0.0215 C             1 Compound\\n       7 Cl          -2.6563    -1.7478    -0.0472 Cl            1 Compound\\n       8 Cl           2.7813    -1.3870     0.0526 Cl            1 Compound\\n       9 Cl           2.5440     1.8350     0.0451 Cl            1 Compound\\n      10 H           -2.2792     1.1081    -0.0430 H             1 Compound\\n      11 H           -0.2385     2.4975    -0.0068 H             1 Compound\\n      12 H            0.1307    -2.4508     0.0048 H             1 Compound\\n@<TRIPOS>BOND\\n       1        1        2 1\\n       2        1        6 1\\n       3        1       10 1\\n       4        2        3 1\\n       5        2       11 1\\n       6        3        4 1\\n       7        3        9 1\\n       8        4        5 1\\n       9        4        8 1\\n      10        5        6 1\\n      11        5       12 1\\n      12        6        7 1\\n      13        8        9 1\\n@<TRIPOS>SUBSTRUCTURE\\n       1 Compound        1 RESIDUE    0 **** ROOT      0\\n\",\"mol2\");\n",
       "\tviewer_1687076557451642.setStyle({\"stick\": {\"radius\": 0.2, \"color\": \"grey\"}, \"sphere\": {\"scale\": 0.3, \"colorscheme\": {}}});\n",
       "\tviewer_1687076557451642.zoomTo();\n",
       "viewer_1687076557451642.render();\n",
       "});\n",
       "</script>"
      ]
     },
     "metadata": {},
     "output_type": "display_data"
    },
    {
     "data": {
      "text/plain": [
       "<py3Dmol.view at 0x285942da0>"
      ]
     },
     "execution_count": 21,
     "metadata": {},
     "output_type": "execute_result"
    }
   ],
   "source": [
    "mol_with_bonds = add_bonds(no_bonds, probability_model)\n",
    "mol_with_bonds.visualize()"
   ]
  },
  {
   "cell_type": "markdown",
   "id": "0361cae4-7b63-4e9e-ad00-ecfd849ae585",
   "metadata": {},
   "source": [
    "It almost works!  This I think is an issue with the fact we have very limited data for Cl-Cl bonds in our data set. Let us can add some more molecules to our dataset in hopes of improving the accuracy.\n",
    "\n",
    "Since the model is cheap, I'm just going to regenerate it, rather than trying to add more training to it. "
   ]
  },
  {
   "cell_type": "code",
   "execution_count": 22,
   "id": "d3b6da00-0ca4-48f9-a1de-fb6c8b448ba0",
   "metadata": {
    "scrolled": true,
    "tags": []
   },
   "outputs": [
    {
     "name": "stdout",
     "output_type": "stream",
     "text": [
      "Epoch 1/100\n",
      "15/15 [==============================] - 0s 6ms/step - loss: 0.4020 - accuracy: 0.8633 - val_loss: 0.3150 - val_accuracy: 0.8622\n",
      "Epoch 2/100\n",
      "15/15 [==============================] - 0s 2ms/step - loss: 0.2620 - accuracy: 0.8644 - val_loss: 0.2179 - val_accuracy: 0.8719\n",
      "Epoch 3/100\n",
      "15/15 [==============================] - 0s 3ms/step - loss: 0.1973 - accuracy: 0.8837 - val_loss: 0.1749 - val_accuracy: 0.9103\n",
      "Epoch 4/100\n",
      "15/15 [==============================] - 0s 2ms/step - loss: 0.1656 - accuracy: 0.9043 - val_loss: 0.1521 - val_accuracy: 0.9021\n",
      "Epoch 5/100\n",
      "15/15 [==============================] - 0s 2ms/step - loss: 0.1470 - accuracy: 0.9060 - val_loss: 0.1365 - val_accuracy: 0.9462\n",
      "Epoch 6/100\n",
      "15/15 [==============================] - 0s 2ms/step - loss: 0.1315 - accuracy: 0.9397 - val_loss: 0.1212 - val_accuracy: 0.9869\n",
      "Epoch 7/100\n",
      "15/15 [==============================] - 0s 2ms/step - loss: 0.1182 - accuracy: 0.9821 - val_loss: 0.1080 - val_accuracy: 0.9918\n",
      "Epoch 8/100\n",
      "15/15 [==============================] - 0s 2ms/step - loss: 0.1072 - accuracy: 0.9861 - val_loss: 0.0969 - val_accuracy: 0.9869\n",
      "Epoch 9/100\n",
      "15/15 [==============================] - 0s 2ms/step - loss: 0.0954 - accuracy: 0.9861 - val_loss: 0.0846 - val_accuracy: 0.9951\n",
      "Epoch 10/100\n",
      "15/15 [==============================] - 0s 2ms/step - loss: 0.0874 - accuracy: 0.9886 - val_loss: 0.0803 - val_accuracy: 0.9984\n",
      "Epoch 11/100\n",
      "15/15 [==============================] - 0s 2ms/step - loss: 0.0776 - accuracy: 0.9910 - val_loss: 0.0670 - val_accuracy: 0.9984\n",
      "Epoch 12/100\n",
      "15/15 [==============================] - 0s 2ms/step - loss: 0.0666 - accuracy: 0.9918 - val_loss: 0.0588 - val_accuracy: 0.9984\n",
      "Epoch 13/100\n",
      "15/15 [==============================] - 0s 2ms/step - loss: 0.0569 - accuracy: 0.9943 - val_loss: 0.0495 - val_accuracy: 0.9984\n",
      "Epoch 14/100\n",
      "15/15 [==============================] - 0s 2ms/step - loss: 0.0517 - accuracy: 0.9929 - val_loss: 0.0566 - val_accuracy: 0.9992\n",
      "Epoch 15/100\n",
      "15/15 [==============================] - 0s 2ms/step - loss: 0.0486 - accuracy: 0.9935 - val_loss: 0.0464 - val_accuracy: 0.9992\n",
      "Epoch 16/100\n",
      "15/15 [==============================] - 0s 2ms/step - loss: 0.0407 - accuracy: 0.9962 - val_loss: 0.0340 - val_accuracy: 0.9992\n",
      "Epoch 17/100\n",
      "15/15 [==============================] - 0s 2ms/step - loss: 0.0343 - accuracy: 0.9978 - val_loss: 0.0302 - val_accuracy: 0.9992\n",
      "Epoch 18/100\n",
      "15/15 [==============================] - 0s 2ms/step - loss: 0.0295 - accuracy: 0.9976 - val_loss: 0.0239 - val_accuracy: 0.9992\n",
      "Epoch 19/100\n",
      "15/15 [==============================] - 0s 2ms/step - loss: 0.0247 - accuracy: 0.9981 - val_loss: 0.0206 - val_accuracy: 0.9992\n",
      "Epoch 20/100\n",
      "15/15 [==============================] - 0s 2ms/step - loss: 0.0223 - accuracy: 0.9981 - val_loss: 0.0180 - val_accuracy: 0.9992\n",
      "Epoch 21/100\n",
      "15/15 [==============================] - 0s 2ms/step - loss: 0.0202 - accuracy: 0.9981 - val_loss: 0.0156 - val_accuracy: 0.9992\n",
      "Epoch 22/100\n",
      "15/15 [==============================] - 0s 2ms/step - loss: 0.0175 - accuracy: 0.9986 - val_loss: 0.0139 - val_accuracy: 0.9992\n",
      "Epoch 23/100\n",
      "15/15 [==============================] - 0s 2ms/step - loss: 0.0159 - accuracy: 0.9989 - val_loss: 0.0127 - val_accuracy: 0.9992\n",
      "Epoch 24/100\n",
      "15/15 [==============================] - 0s 2ms/step - loss: 0.0131 - accuracy: 0.9984 - val_loss: 0.0115 - val_accuracy: 1.0000\n",
      "Epoch 25/100\n",
      "15/15 [==============================] - 0s 2ms/step - loss: 0.0120 - accuracy: 0.9986 - val_loss: 0.0114 - val_accuracy: 1.0000\n",
      "Epoch 26/100\n",
      "15/15 [==============================] - 0s 2ms/step - loss: 0.0104 - accuracy: 0.9989 - val_loss: 0.0099 - val_accuracy: 1.0000\n",
      "Epoch 27/100\n",
      "15/15 [==============================] - 0s 2ms/step - loss: 0.0089 - accuracy: 1.0000 - val_loss: 0.0073 - val_accuracy: 1.0000\n",
      "Epoch 28/100\n",
      "15/15 [==============================] - 0s 2ms/step - loss: 0.0082 - accuracy: 0.9992 - val_loss: 0.0067 - val_accuracy: 1.0000\n",
      "Epoch 29/100\n",
      "15/15 [==============================] - 0s 2ms/step - loss: 0.0072 - accuracy: 0.9992 - val_loss: 0.0060 - val_accuracy: 1.0000\n",
      "Epoch 30/100\n",
      "15/15 [==============================] - 0s 2ms/step - loss: 0.0068 - accuracy: 0.9989 - val_loss: 0.0066 - val_accuracy: 1.0000\n",
      "Epoch 31/100\n",
      "15/15 [==============================] - 0s 2ms/step - loss: 0.0057 - accuracy: 0.9997 - val_loss: 0.0053 - val_accuracy: 1.0000\n",
      "Epoch 32/100\n",
      "15/15 [==============================] - 0s 2ms/step - loss: 0.0050 - accuracy: 1.0000 - val_loss: 0.0043 - val_accuracy: 1.0000\n",
      "Epoch 33/100\n",
      "15/15 [==============================] - 0s 2ms/step - loss: 0.0045 - accuracy: 1.0000 - val_loss: 0.0040 - val_accuracy: 1.0000\n",
      "Epoch 34/100\n",
      "15/15 [==============================] - 0s 2ms/step - loss: 0.0042 - accuracy: 1.0000 - val_loss: 0.0035 - val_accuracy: 1.0000\n",
      "Epoch 35/100\n",
      "15/15 [==============================] - 0s 2ms/step - loss: 0.0037 - accuracy: 1.0000 - val_loss: 0.0038 - val_accuracy: 1.0000\n",
      "Epoch 36/100\n",
      "15/15 [==============================] - 0s 2ms/step - loss: 0.0035 - accuracy: 1.0000 - val_loss: 0.0030 - val_accuracy: 1.0000\n",
      "Epoch 37/100\n",
      "15/15 [==============================] - 0s 2ms/step - loss: 0.0032 - accuracy: 1.0000 - val_loss: 0.0028 - val_accuracy: 1.0000\n",
      "Epoch 38/100\n",
      "15/15 [==============================] - 0s 2ms/step - loss: 0.0030 - accuracy: 1.0000 - val_loss: 0.0027 - val_accuracy: 1.0000\n",
      "Epoch 39/100\n",
      "15/15 [==============================] - 0s 2ms/step - loss: 0.0027 - accuracy: 1.0000 - val_loss: 0.0024 - val_accuracy: 1.0000\n",
      "Epoch 40/100\n",
      "15/15 [==============================] - 0s 2ms/step - loss: 0.0025 - accuracy: 1.0000 - val_loss: 0.0023 - val_accuracy: 1.0000\n",
      "Epoch 41/100\n",
      "15/15 [==============================] - 0s 2ms/step - loss: 0.0026 - accuracy: 1.0000 - val_loss: 0.0021 - val_accuracy: 1.0000\n",
      "Epoch 42/100\n",
      "15/15 [==============================] - 0s 2ms/step - loss: 0.0022 - accuracy: 1.0000 - val_loss: 0.0019 - val_accuracy: 1.0000\n",
      "Epoch 43/100\n",
      "15/15 [==============================] - 0s 2ms/step - loss: 0.0020 - accuracy: 1.0000 - val_loss: 0.0020 - val_accuracy: 1.0000\n",
      "Epoch 44/100\n",
      "15/15 [==============================] - 0s 2ms/step - loss: 0.0019 - accuracy: 1.0000 - val_loss: 0.0017 - val_accuracy: 1.0000\n",
      "Epoch 45/100\n",
      "15/15 [==============================] - 0s 2ms/step - loss: 0.0018 - accuracy: 1.0000 - val_loss: 0.0018 - val_accuracy: 1.0000\n",
      "Epoch 46/100\n",
      "15/15 [==============================] - 0s 2ms/step - loss: 0.0017 - accuracy: 1.0000 - val_loss: 0.0016 - val_accuracy: 1.0000\n",
      "Epoch 47/100\n",
      "15/15 [==============================] - 0s 2ms/step - loss: 0.0016 - accuracy: 1.0000 - val_loss: 0.0015 - val_accuracy: 1.0000\n",
      "Epoch 48/100\n",
      "15/15 [==============================] - 0s 3ms/step - loss: 0.0015 - accuracy: 1.0000 - val_loss: 0.0014 - val_accuracy: 1.0000\n",
      "Epoch 49/100\n",
      "15/15 [==============================] - 0s 3ms/step - loss: 0.0014 - accuracy: 1.0000 - val_loss: 0.0013 - val_accuracy: 1.0000\n",
      "Epoch 50/100\n",
      "15/15 [==============================] - 0s 2ms/step - loss: 0.0013 - accuracy: 1.0000 - val_loss: 0.0013 - val_accuracy: 1.0000\n",
      "Epoch 51/100\n",
      "15/15 [==============================] - 0s 2ms/step - loss: 0.0012 - accuracy: 1.0000 - val_loss: 0.0012 - val_accuracy: 1.0000\n",
      "Epoch 52/100\n",
      "15/15 [==============================] - 0s 3ms/step - loss: 0.0013 - accuracy: 1.0000 - val_loss: 0.0013 - val_accuracy: 1.0000\n",
      "Epoch 53/100\n",
      "15/15 [==============================] - 0s 2ms/step - loss: 0.0012 - accuracy: 1.0000 - val_loss: 0.0011 - val_accuracy: 1.0000\n",
      "Epoch 54/100\n",
      "15/15 [==============================] - 0s 2ms/step - loss: 0.0011 - accuracy: 1.0000 - val_loss: 9.8897e-04 - val_accuracy: 1.0000\n",
      "Epoch 55/100\n",
      "15/15 [==============================] - 0s 2ms/step - loss: 0.0010 - accuracy: 1.0000 - val_loss: 9.5248e-04 - val_accuracy: 1.0000\n",
      "Epoch 56/100\n",
      "15/15 [==============================] - 0s 2ms/step - loss: 9.9737e-04 - accuracy: 1.0000 - val_loss: 9.4907e-04 - val_accuracy: 1.0000\n",
      "Epoch 57/100\n",
      "15/15 [==============================] - 0s 2ms/step - loss: 9.3017e-04 - accuracy: 1.0000 - val_loss: 8.8244e-04 - val_accuracy: 1.0000\n",
      "Epoch 58/100\n",
      "15/15 [==============================] - 0s 2ms/step - loss: 8.7886e-04 - accuracy: 1.0000 - val_loss: 8.2642e-04 - val_accuracy: 1.0000\n",
      "Epoch 59/100\n",
      "15/15 [==============================] - 0s 2ms/step - loss: 8.4999e-04 - accuracy: 1.0000 - val_loss: 7.9292e-04 - val_accuracy: 1.0000\n",
      "Epoch 60/100\n",
      "15/15 [==============================] - 0s 2ms/step - loss: 8.1669e-04 - accuracy: 1.0000 - val_loss: 7.8834e-04 - val_accuracy: 1.0000\n",
      "Epoch 61/100\n",
      "15/15 [==============================] - 0s 2ms/step - loss: 7.8597e-04 - accuracy: 1.0000 - val_loss: 7.6862e-04 - val_accuracy: 1.0000\n",
      "Epoch 62/100\n",
      "15/15 [==============================] - 0s 2ms/step - loss: 7.5439e-04 - accuracy: 1.0000 - val_loss: 6.9928e-04 - val_accuracy: 1.0000\n",
      "Epoch 63/100\n",
      "15/15 [==============================] - 0s 2ms/step - loss: 7.2740e-04 - accuracy: 1.0000 - val_loss: 7.1927e-04 - val_accuracy: 1.0000\n",
      "Epoch 64/100\n",
      "15/15 [==============================] - 0s 2ms/step - loss: 7.4016e-04 - accuracy: 1.0000 - val_loss: 6.4721e-04 - val_accuracy: 1.0000\n",
      "Epoch 65/100\n",
      "15/15 [==============================] - 0s 2ms/step - loss: 6.7336e-04 - accuracy: 1.0000 - val_loss: 6.5396e-04 - val_accuracy: 1.0000\n",
      "Epoch 66/100\n",
      "15/15 [==============================] - 0s 2ms/step - loss: 6.2886e-04 - accuracy: 1.0000 - val_loss: 5.8761e-04 - val_accuracy: 1.0000\n",
      "Epoch 67/100\n",
      "15/15 [==============================] - 0s 2ms/step - loss: 6.0082e-04 - accuracy: 1.0000 - val_loss: 5.8221e-04 - val_accuracy: 1.0000\n",
      "Epoch 68/100\n",
      "15/15 [==============================] - 0s 2ms/step - loss: 5.7980e-04 - accuracy: 1.0000 - val_loss: 5.5771e-04 - val_accuracy: 1.0000\n",
      "Epoch 69/100\n",
      "15/15 [==============================] - 0s 2ms/step - loss: 5.5853e-04 - accuracy: 1.0000 - val_loss: 5.2972e-04 - val_accuracy: 1.0000\n",
      "Epoch 70/100\n",
      "15/15 [==============================] - 0s 2ms/step - loss: 5.4198e-04 - accuracy: 1.0000 - val_loss: 5.4839e-04 - val_accuracy: 1.0000\n",
      "Epoch 71/100\n",
      "15/15 [==============================] - 0s 2ms/step - loss: 5.2343e-04 - accuracy: 1.0000 - val_loss: 4.9292e-04 - val_accuracy: 1.0000\n",
      "Epoch 72/100\n",
      "15/15 [==============================] - 0s 2ms/step - loss: 4.9955e-04 - accuracy: 1.0000 - val_loss: 4.9367e-04 - val_accuracy: 1.0000\n",
      "Epoch 73/100\n",
      "15/15 [==============================] - 0s 2ms/step - loss: 4.8266e-04 - accuracy: 1.0000 - val_loss: 4.6093e-04 - val_accuracy: 1.0000\n",
      "Epoch 74/100\n",
      "15/15 [==============================] - 0s 2ms/step - loss: 4.6520e-04 - accuracy: 1.0000 - val_loss: 4.4869e-04 - val_accuracy: 1.0000\n",
      "Epoch 75/100\n",
      "15/15 [==============================] - 0s 2ms/step - loss: 4.5093e-04 - accuracy: 1.0000 - val_loss: 4.3641e-04 - val_accuracy: 1.0000\n",
      "Epoch 76/100\n",
      "15/15 [==============================] - 0s 2ms/step - loss: 4.4092e-04 - accuracy: 1.0000 - val_loss: 4.1733e-04 - val_accuracy: 1.0000\n",
      "Epoch 77/100\n",
      "15/15 [==============================] - 0s 2ms/step - loss: 4.2493e-04 - accuracy: 1.0000 - val_loss: 4.1100e-04 - val_accuracy: 1.0000\n",
      "Epoch 78/100\n",
      "15/15 [==============================] - 0s 2ms/step - loss: 4.0718e-04 - accuracy: 1.0000 - val_loss: 3.9168e-04 - val_accuracy: 1.0000\n",
      "Epoch 79/100\n",
      "15/15 [==============================] - 0s 2ms/step - loss: 3.9675e-04 - accuracy: 1.0000 - val_loss: 3.8347e-04 - val_accuracy: 1.0000\n",
      "Epoch 80/100\n",
      "15/15 [==============================] - 0s 2ms/step - loss: 3.8660e-04 - accuracy: 1.0000 - val_loss: 3.7442e-04 - val_accuracy: 1.0000\n",
      "Epoch 81/100\n",
      "15/15 [==============================] - 0s 2ms/step - loss: 3.7273e-04 - accuracy: 1.0000 - val_loss: 3.5975e-04 - val_accuracy: 1.0000\n",
      "Epoch 82/100\n",
      "15/15 [==============================] - 0s 2ms/step - loss: 3.6112e-04 - accuracy: 1.0000 - val_loss: 3.5173e-04 - val_accuracy: 1.0000\n",
      "Epoch 83/100\n",
      "15/15 [==============================] - 0s 2ms/step - loss: 3.4902e-04 - accuracy: 1.0000 - val_loss: 3.4000e-04 - val_accuracy: 1.0000\n",
      "Epoch 84/100\n",
      "15/15 [==============================] - 0s 2ms/step - loss: 3.4041e-04 - accuracy: 1.0000 - val_loss: 3.2850e-04 - val_accuracy: 1.0000\n",
      "Epoch 85/100\n",
      "15/15 [==============================] - 0s 2ms/step - loss: 3.3596e-04 - accuracy: 1.0000 - val_loss: 3.2076e-04 - val_accuracy: 1.0000\n",
      "Epoch 86/100\n",
      "15/15 [==============================] - 0s 2ms/step - loss: 3.2253e-04 - accuracy: 1.0000 - val_loss: 3.1605e-04 - val_accuracy: 1.0000\n",
      "Epoch 87/100\n",
      "15/15 [==============================] - 0s 2ms/step - loss: 3.1306e-04 - accuracy: 1.0000 - val_loss: 3.0498e-04 - val_accuracy: 1.0000\n",
      "Epoch 88/100\n",
      "15/15 [==============================] - 0s 2ms/step - loss: 3.0473e-04 - accuracy: 1.0000 - val_loss: 2.9509e-04 - val_accuracy: 1.0000\n",
      "Epoch 89/100\n",
      "15/15 [==============================] - 0s 2ms/step - loss: 2.9739e-04 - accuracy: 1.0000 - val_loss: 2.8929e-04 - val_accuracy: 1.0000\n",
      "Epoch 90/100\n",
      "15/15 [==============================] - 0s 2ms/step - loss: 2.9557e-04 - accuracy: 1.0000 - val_loss: 2.7844e-04 - val_accuracy: 1.0000\n",
      "Epoch 91/100\n",
      "15/15 [==============================] - 0s 2ms/step - loss: 2.8583e-04 - accuracy: 1.0000 - val_loss: 2.7462e-04 - val_accuracy: 1.0000\n",
      "Epoch 92/100\n",
      "15/15 [==============================] - 0s 2ms/step - loss: 2.7034e-04 - accuracy: 1.0000 - val_loss: 2.6564e-04 - val_accuracy: 1.0000\n",
      "Epoch 93/100\n",
      "15/15 [==============================] - 0s 2ms/step - loss: 2.6473e-04 - accuracy: 1.0000 - val_loss: 2.6027e-04 - val_accuracy: 1.0000\n",
      "Epoch 94/100\n",
      "15/15 [==============================] - 0s 2ms/step - loss: 2.6084e-04 - accuracy: 1.0000 - val_loss: 2.5095e-04 - val_accuracy: 1.0000\n",
      "Epoch 95/100\n",
      "15/15 [==============================] - 0s 2ms/step - loss: 2.5274e-04 - accuracy: 1.0000 - val_loss: 2.4623e-04 - val_accuracy: 1.0000\n",
      "Epoch 96/100\n",
      "15/15 [==============================] - 0s 2ms/step - loss: 2.4367e-04 - accuracy: 1.0000 - val_loss: 2.4358e-04 - val_accuracy: 1.0000\n",
      "Epoch 97/100\n",
      "15/15 [==============================] - 0s 2ms/step - loss: 2.3783e-04 - accuracy: 1.0000 - val_loss: 2.3222e-04 - val_accuracy: 1.0000\n",
      "Epoch 98/100\n",
      "15/15 [==============================] - 0s 2ms/step - loss: 2.3366e-04 - accuracy: 1.0000 - val_loss: 2.2737e-04 - val_accuracy: 1.0000\n",
      "Epoch 99/100\n",
      "15/15 [==============================] - 0s 2ms/step - loss: 2.2600e-04 - accuracy: 1.0000 - val_loss: 2.2574e-04 - val_accuracy: 1.0000\n",
      "Epoch 100/100\n",
      "15/15 [==============================] - 0s 2ms/step - loss: 2.1999e-04 - accuracy: 1.0000 - val_loss: 2.1559e-04 - val_accuracy: 1.0000\n",
      "39/39 - 0s - loss: 2.1559e-04 - accuracy: 1.0000 - 28ms/epoch - 721us/step\n",
      "\n",
      "Test accuracy: 1.0\n"
     ]
    }
   ],
   "source": [
    "smiles_strings.append('C(Cl)Cl')\n",
    "smiles_strings.append('CC(Cl)Cl')\n",
    "smiles_strings.append('CC(Cl)CCl')\n",
    "smiles_strings.append('CCC(Cl)Cl')\n",
    "smiles_strings.append('CC(Cl)C(Cl)Cl')\n",
    "\n",
    "data_set = generate_data(smiles_strings)\n",
    "\n",
    "train_df = data_set.sample(frac=0.75, random_state=4)\n",
    "val_df = data_set.drop(train_df.index)\n",
    "\n",
    "X_train = train_df.drop('bonded',axis=1)\n",
    "Y_train = train_df['bonded']\n",
    "\n",
    "\n",
    "X_val = val_df.drop('bonded',axis=1)\n",
    "Y_val = val_df['bonded']\n",
    "\n",
    "input_shape = [X_train.shape[1]]\n",
    "\n",
    "model = tf.keras.Sequential([\n",
    " \n",
    "    tf.keras.layers.Dense(units=64, activation='relu',\n",
    "                          input_shape=input_shape),\n",
    "    tf.keras.layers.Dense(units=64, activation='relu'),\n",
    "    tf.keras.layers.Dense(units=2, activation='softmax')\n",
    "])\n",
    "\n",
    "model.compile(optimizer='adam', \n",
    "              #loss= 'mae',\n",
    "              loss =tf.keras.losses.SparseCategoricalCrossentropy(),\n",
    "              metrics=['accuracy'])\n",
    "\n",
    "losses = model.fit(X_train, Y_train,\n",
    "                   validation_data=(X_val, Y_val),\n",
    "                    \n",
    "                   # it will use 'batch_size' number\n",
    "                   # of examples per example\n",
    "                   batch_size=256,\n",
    "                   epochs=100,  # total epoch\n",
    " \n",
    "                   )\n",
    "\n",
    "test_loss, test_acc = model.evaluate(X_val,  Y_val, verbose=2)\n",
    "\n",
    "print('\\nTest accuracy:', test_acc)\n",
    "\n",
    "probability_model = tf.keras.Sequential([model, \n",
    "                                         tf.keras.layers.Softmax()])"
   ]
  },
  {
   "cell_type": "code",
   "execution_count": 23,
   "id": "43fa6aa0-170e-424f-9ec2-e51c970bb9d9",
   "metadata": {},
   "outputs": [
    {
     "name": "stdout",
     "output_type": "stream",
     "text": [
      "2/2 [==============================] - 0s 991us/step\n"
     ]
    },
    {
     "data": {
      "application/3dmoljs_load.v0": "<div id=\"3dmolviewer_168707664169886\"  style=\"position: relative; width: 640px; height: 480px\">\n        <p id=\"3dmolwarning_168707664169886\" style=\"background-color:#ffcccc;color:black\">You appear to be running in JupyterLab (or JavaScript failed to load for some other reason).  You need to install the 3dmol extension: <br>\n        <tt>jupyter labextension install jupyterlab_3dmol</tt></p>\n        </div>\n<script>\n\nvar loadScriptAsync = function(uri){\n  return new Promise((resolve, reject) => {\n    //this is to ignore the existence of requirejs amd\n    var savedexports, savedmodule;\n    if (typeof exports !== 'undefined') savedexports = exports;\n    else exports = {}\n    if (typeof module !== 'undefined') savedmodule = module;\n    else module = {}\n\n    var tag = document.createElement('script');\n    tag.src = uri;\n    tag.async = true;\n    tag.onload = () => {\n        exports = savedexports;\n        module = savedmodule;\n        resolve();\n    };\n  var firstScriptTag = document.getElementsByTagName('script')[0];\n  firstScriptTag.parentNode.insertBefore(tag, firstScriptTag);\n});\n};\n\nif(typeof $3Dmolpromise === 'undefined') {\n$3Dmolpromise = null;\n  $3Dmolpromise = loadScriptAsync('https://cdnjs.cloudflare.com/ajax/libs/3Dmol/2.0.1/3Dmol-min.js');\n}\n\nvar viewer_168707664169886 = null;\nvar warn = document.getElementById(\"3dmolwarning_168707664169886\");\nif(warn) {\n    warn.parentNode.removeChild(warn);\n}\n$3Dmolpromise.then(function() {\nviewer_168707664169886 = $3Dmol.createViewer(document.getElementById(\"3dmolviewer_168707664169886\"),{backgroundColor:\"white\"});\nviewer_168707664169886.zoomTo();\n\tviewer_168707664169886.addModel(\"@<TRIPOS>MOLECULE\\nCompound\\n12 12 1 0 1\\nSMALL\\nNO_CHARGES\\n@<TRIPOS>CRYSIN\\n   10.4376     9.9483     6.0000    90.0000    90.0000    90.0000 1 1\\n@<TRIPOS>ATOM\\n       1 C           -1.3069     0.6325    -0.0247 C             1 Compound\\n       2 C           -0.1511     1.4184    -0.0041 C             1 Compound\\n       3 C            1.1121     0.8147     0.0197 C             1 Compound\\n       4 C            1.2153    -0.5878     0.0229 C             1 Compound\\n       5 C            0.0542    -1.3707     0.0023 C             1 Compound\\n       6 C           -1.2054    -0.7622    -0.0215 C             1 Compound\\n       7 Cl          -2.6563    -1.7478    -0.0472 Cl            1 Compound\\n       8 Cl           2.7813    -1.3870     0.0526 Cl            1 Compound\\n       9 Cl           2.5440     1.8350     0.0451 Cl            1 Compound\\n      10 H           -2.2792     1.1081    -0.0430 H             1 Compound\\n      11 H           -0.2385     2.4975    -0.0068 H             1 Compound\\n      12 H            0.1307    -2.4508     0.0048 H             1 Compound\\n@<TRIPOS>BOND\\n       1        1        2 1\\n       2        1        6 1\\n       3        1       10 1\\n       4        2        3 1\\n       5        2       11 1\\n       6        3        4 1\\n       7        3        9 1\\n       8        4        5 1\\n       9        4        8 1\\n      10        5        6 1\\n      11        5       12 1\\n      12        6        7 1\\n@<TRIPOS>SUBSTRUCTURE\\n       1 Compound        1 RESIDUE    0 **** ROOT      0\\n\",\"mol2\");\n\tviewer_168707664169886.setStyle({\"stick\": {\"radius\": 0.2, \"color\": \"grey\"}, \"sphere\": {\"scale\": 0.3, \"colorscheme\": {}}});\n\tviewer_168707664169886.zoomTo();\nviewer_168707664169886.render();\n});\n</script>",
      "text/html": [
       "<div id=\"3dmolviewer_168707664169886\"  style=\"position: relative; width: 640px; height: 480px\">\n",
       "        <p id=\"3dmolwarning_168707664169886\" style=\"background-color:#ffcccc;color:black\">You appear to be running in JupyterLab (or JavaScript failed to load for some other reason).  You need to install the 3dmol extension: <br>\n",
       "        <tt>jupyter labextension install jupyterlab_3dmol</tt></p>\n",
       "        </div>\n",
       "<script>\n",
       "\n",
       "var loadScriptAsync = function(uri){\n",
       "  return new Promise((resolve, reject) => {\n",
       "    //this is to ignore the existence of requirejs amd\n",
       "    var savedexports, savedmodule;\n",
       "    if (typeof exports !== 'undefined') savedexports = exports;\n",
       "    else exports = {}\n",
       "    if (typeof module !== 'undefined') savedmodule = module;\n",
       "    else module = {}\n",
       "\n",
       "    var tag = document.createElement('script');\n",
       "    tag.src = uri;\n",
       "    tag.async = true;\n",
       "    tag.onload = () => {\n",
       "        exports = savedexports;\n",
       "        module = savedmodule;\n",
       "        resolve();\n",
       "    };\n",
       "  var firstScriptTag = document.getElementsByTagName('script')[0];\n",
       "  firstScriptTag.parentNode.insertBefore(tag, firstScriptTag);\n",
       "});\n",
       "};\n",
       "\n",
       "if(typeof $3Dmolpromise === 'undefined') {\n",
       "$3Dmolpromise = null;\n",
       "  $3Dmolpromise = loadScriptAsync('https://cdnjs.cloudflare.com/ajax/libs/3Dmol/2.0.1/3Dmol-min.js');\n",
       "}\n",
       "\n",
       "var viewer_168707664169886 = null;\n",
       "var warn = document.getElementById(\"3dmolwarning_168707664169886\");\n",
       "if(warn) {\n",
       "    warn.parentNode.removeChild(warn);\n",
       "}\n",
       "$3Dmolpromise.then(function() {\n",
       "viewer_168707664169886 = $3Dmol.createViewer(document.getElementById(\"3dmolviewer_168707664169886\"),{backgroundColor:\"white\"});\n",
       "viewer_168707664169886.zoomTo();\n",
       "\tviewer_168707664169886.addModel(\"@<TRIPOS>MOLECULE\\nCompound\\n12 12 1 0 1\\nSMALL\\nNO_CHARGES\\n@<TRIPOS>CRYSIN\\n   10.4376     9.9483     6.0000    90.0000    90.0000    90.0000 1 1\\n@<TRIPOS>ATOM\\n       1 C           -1.3069     0.6325    -0.0247 C             1 Compound\\n       2 C           -0.1511     1.4184    -0.0041 C             1 Compound\\n       3 C            1.1121     0.8147     0.0197 C             1 Compound\\n       4 C            1.2153    -0.5878     0.0229 C             1 Compound\\n       5 C            0.0542    -1.3707     0.0023 C             1 Compound\\n       6 C           -1.2054    -0.7622    -0.0215 C             1 Compound\\n       7 Cl          -2.6563    -1.7478    -0.0472 Cl            1 Compound\\n       8 Cl           2.7813    -1.3870     0.0526 Cl            1 Compound\\n       9 Cl           2.5440     1.8350     0.0451 Cl            1 Compound\\n      10 H           -2.2792     1.1081    -0.0430 H             1 Compound\\n      11 H           -0.2385     2.4975    -0.0068 H             1 Compound\\n      12 H            0.1307    -2.4508     0.0048 H             1 Compound\\n@<TRIPOS>BOND\\n       1        1        2 1\\n       2        1        6 1\\n       3        1       10 1\\n       4        2        3 1\\n       5        2       11 1\\n       6        3        4 1\\n       7        3        9 1\\n       8        4        5 1\\n       9        4        8 1\\n      10        5        6 1\\n      11        5       12 1\\n      12        6        7 1\\n@<TRIPOS>SUBSTRUCTURE\\n       1 Compound        1 RESIDUE    0 **** ROOT      0\\n\",\"mol2\");\n",
       "\tviewer_168707664169886.setStyle({\"stick\": {\"radius\": 0.2, \"color\": \"grey\"}, \"sphere\": {\"scale\": 0.3, \"colorscheme\": {}}});\n",
       "\tviewer_168707664169886.zoomTo();\n",
       "viewer_168707664169886.render();\n",
       "});\n",
       "</script>"
      ]
     },
     "metadata": {},
     "output_type": "display_data"
    },
    {
     "data": {
      "text/plain": [
       "<py3Dmol.view at 0x28647b430>"
      ]
     },
     "execution_count": 23,
     "metadata": {},
     "output_type": "execute_result"
    }
   ],
   "source": [
    "original = mb.load('C1=CC(=C(C=C1Cl)Cl)Cl', smiles=True)\n",
    "no_bonds = mb.clone(original)\n",
    "\n",
    "for bond in no_bonds.bonds():\n",
    "    no_bonds.remove_bond(bond)\n",
    "\n",
    "mol_with_bonds = add_bonds(no_bonds, probability_model)\n",
    "mol_with_bonds.visualize()"
   ]
  },
  {
   "cell_type": "markdown",
   "id": "97899bba-4ad8-4723-8d25-25424ae4f9e3",
   "metadata": {},
   "source": [
    "Now it works!  I wonder what would happen if we give something we didn't train on at all, say a thiol molecule.  I'd expect there to be no issues with the C-C and C-H bond identification in the molecule, but don't really know what it will do with the C-S.  \n",
    "\n",
    "I'm guessing it will be able to do some interpolation...we already include C-Cl bonds of length ~1.7 angstroms; the code sees this bond being between numbers 6 and 17. The C-S bond is between 6 and 16, with bond length is ~1.6 angstroms, so it should be within our bonds."
   ]
  },
  {
   "cell_type": "code",
   "execution_count": 24,
   "id": "25be1f7a-fae0-4335-9644-59f10507a444",
   "metadata": {},
   "outputs": [
    {
     "name": "stdout",
     "output_type": "stream",
     "text": [
      "3/3 [==============================] - 0s 1ms/step\n"
     ]
    },
    {
     "data": {
      "application/3dmoljs_load.v0": "<div id=\"3dmolviewer_1687076736090168\"  style=\"position: relative; width: 640px; height: 480px\">\n        <p id=\"3dmolwarning_1687076736090168\" style=\"background-color:#ffcccc;color:black\">You appear to be running in JupyterLab (or JavaScript failed to load for some other reason).  You need to install the 3dmol extension: <br>\n        <tt>jupyter labextension install jupyterlab_3dmol</tt></p>\n        </div>\n<script>\n\nvar loadScriptAsync = function(uri){\n  return new Promise((resolve, reject) => {\n    //this is to ignore the existence of requirejs amd\n    var savedexports, savedmodule;\n    if (typeof exports !== 'undefined') savedexports = exports;\n    else exports = {}\n    if (typeof module !== 'undefined') savedmodule = module;\n    else module = {}\n\n    var tag = document.createElement('script');\n    tag.src = uri;\n    tag.async = true;\n    tag.onload = () => {\n        exports = savedexports;\n        module = savedmodule;\n        resolve();\n    };\n  var firstScriptTag = document.getElementsByTagName('script')[0];\n  firstScriptTag.parentNode.insertBefore(tag, firstScriptTag);\n});\n};\n\nif(typeof $3Dmolpromise === 'undefined') {\n$3Dmolpromise = null;\n  $3Dmolpromise = loadScriptAsync('https://cdnjs.cloudflare.com/ajax/libs/3Dmol/2.0.1/3Dmol-min.js');\n}\n\nvar viewer_1687076736090168 = null;\nvar warn = document.getElementById(\"3dmolwarning_1687076736090168\");\nif(warn) {\n    warn.parentNode.removeChild(warn);\n}\n$3Dmolpromise.then(function() {\nviewer_1687076736090168 = $3Dmol.createViewer(document.getElementById(\"3dmolviewer_1687076736090168\"),{backgroundColor:\"white\"});\nviewer_1687076736090168.zoomTo();\n\tviewer_1687076736090168.addModel(\"@<TRIPOS>MOLECULE\\nCompound\\n12 11 1 0 1\\nSMALL\\nNO_CHARGES\\n@<TRIPOS>CRYSIN\\n   10.4186     8.0062     7.6942    90.0000    90.0000    90.0000 1 1\\n@<TRIPOS>ATOM\\n       1 C           -1.3829     0.6098     0.2446 C             1 Compound\\n       2 C           -0.4998    -0.6018     0.5397 C             1 Compound\\n       3 C            0.9257    -0.4227     0.0107 C             1 Compound\\n       4 S            1.8387     0.8217     0.9785 S             1 Compound\\n       5 H           -2.4136     0.4135     0.6080 H             1 Compound\\n       6 H           -1.4238     0.8013    -0.8488 H             1 Compound\\n       7 H           -0.9952     1.5128     0.7613 H             1 Compound\\n       8 H           -0.9509    -1.4934     0.0529 H             1 Compound\\n       9 H           -0.4753    -0.7879     1.6353 H             1 Compound\\n      10 H            1.4649    -1.3905     0.0903 H             1 Compound\\n      11 H            0.9070    -0.1225    -1.0589 H             1 Compound\\n      12 H            3.0051     0.6597     0.2070 H             1 Compound\\n@<TRIPOS>BOND\\n       1        1        2 1\\n       2        1        5 1\\n       3        1        6 1\\n       4        1        7 1\\n       5        2        3 1\\n       6        2        8 1\\n       7        2        9 1\\n       8        3        4 1\\n       9        3       10 1\\n      10        3       11 1\\n      11        4       12 1\\n@<TRIPOS>SUBSTRUCTURE\\n       1 Compound        1 RESIDUE    0 **** ROOT      0\\n\",\"mol2\");\n\tviewer_1687076736090168.setStyle({\"stick\": {\"radius\": 0.2, \"color\": \"grey\"}, \"sphere\": {\"scale\": 0.3, \"colorscheme\": {}}});\n\tviewer_1687076736090168.zoomTo();\nviewer_1687076736090168.render();\n});\n</script>",
      "text/html": [
       "<div id=\"3dmolviewer_1687076736090168\"  style=\"position: relative; width: 640px; height: 480px\">\n",
       "        <p id=\"3dmolwarning_1687076736090168\" style=\"background-color:#ffcccc;color:black\">You appear to be running in JupyterLab (or JavaScript failed to load for some other reason).  You need to install the 3dmol extension: <br>\n",
       "        <tt>jupyter labextension install jupyterlab_3dmol</tt></p>\n",
       "        </div>\n",
       "<script>\n",
       "\n",
       "var loadScriptAsync = function(uri){\n",
       "  return new Promise((resolve, reject) => {\n",
       "    //this is to ignore the existence of requirejs amd\n",
       "    var savedexports, savedmodule;\n",
       "    if (typeof exports !== 'undefined') savedexports = exports;\n",
       "    else exports = {}\n",
       "    if (typeof module !== 'undefined') savedmodule = module;\n",
       "    else module = {}\n",
       "\n",
       "    var tag = document.createElement('script');\n",
       "    tag.src = uri;\n",
       "    tag.async = true;\n",
       "    tag.onload = () => {\n",
       "        exports = savedexports;\n",
       "        module = savedmodule;\n",
       "        resolve();\n",
       "    };\n",
       "  var firstScriptTag = document.getElementsByTagName('script')[0];\n",
       "  firstScriptTag.parentNode.insertBefore(tag, firstScriptTag);\n",
       "});\n",
       "};\n",
       "\n",
       "if(typeof $3Dmolpromise === 'undefined') {\n",
       "$3Dmolpromise = null;\n",
       "  $3Dmolpromise = loadScriptAsync('https://cdnjs.cloudflare.com/ajax/libs/3Dmol/2.0.1/3Dmol-min.js');\n",
       "}\n",
       "\n",
       "var viewer_1687076736090168 = null;\n",
       "var warn = document.getElementById(\"3dmolwarning_1687076736090168\");\n",
       "if(warn) {\n",
       "    warn.parentNode.removeChild(warn);\n",
       "}\n",
       "$3Dmolpromise.then(function() {\n",
       "viewer_1687076736090168 = $3Dmol.createViewer(document.getElementById(\"3dmolviewer_1687076736090168\"),{backgroundColor:\"white\"});\n",
       "viewer_1687076736090168.zoomTo();\n",
       "\tviewer_1687076736090168.addModel(\"@<TRIPOS>MOLECULE\\nCompound\\n12 11 1 0 1\\nSMALL\\nNO_CHARGES\\n@<TRIPOS>CRYSIN\\n   10.4186     8.0062     7.6942    90.0000    90.0000    90.0000 1 1\\n@<TRIPOS>ATOM\\n       1 C           -1.3829     0.6098     0.2446 C             1 Compound\\n       2 C           -0.4998    -0.6018     0.5397 C             1 Compound\\n       3 C            0.9257    -0.4227     0.0107 C             1 Compound\\n       4 S            1.8387     0.8217     0.9785 S             1 Compound\\n       5 H           -2.4136     0.4135     0.6080 H             1 Compound\\n       6 H           -1.4238     0.8013    -0.8488 H             1 Compound\\n       7 H           -0.9952     1.5128     0.7613 H             1 Compound\\n       8 H           -0.9509    -1.4934     0.0529 H             1 Compound\\n       9 H           -0.4753    -0.7879     1.6353 H             1 Compound\\n      10 H            1.4649    -1.3905     0.0903 H             1 Compound\\n      11 H            0.9070    -0.1225    -1.0589 H             1 Compound\\n      12 H            3.0051     0.6597     0.2070 H             1 Compound\\n@<TRIPOS>BOND\\n       1        1        2 1\\n       2        1        5 1\\n       3        1        6 1\\n       4        1        7 1\\n       5        2        3 1\\n       6        2        8 1\\n       7        2        9 1\\n       8        3        4 1\\n       9        3       10 1\\n      10        3       11 1\\n      11        4       12 1\\n@<TRIPOS>SUBSTRUCTURE\\n       1 Compound        1 RESIDUE    0 **** ROOT      0\\n\",\"mol2\");\n",
       "\tviewer_1687076736090168.setStyle({\"stick\": {\"radius\": 0.2, \"color\": \"grey\"}, \"sphere\": {\"scale\": 0.3, \"colorscheme\": {}}});\n",
       "\tviewer_1687076736090168.zoomTo();\n",
       "viewer_1687076736090168.render();\n",
       "});\n",
       "</script>"
      ]
     },
     "metadata": {},
     "output_type": "display_data"
    },
    {
     "data": {
      "text/plain": [
       "<py3Dmol.view at 0x286532f50>"
      ]
     },
     "execution_count": 24,
     "metadata": {},
     "output_type": "execute_result"
    }
   ],
   "source": [
    "original = mb.load('CCCS', smiles=True)\n",
    "no_bonds = mb.clone(original)\n",
    "\n",
    "for bond in no_bonds.bonds():\n",
    "    no_bonds.remove_bond(bond)\n",
    "\n",
    "mol_with_bonds = add_bonds(no_bonds, probability_model)\n",
    "mol_with_bonds.visualize()\n"
   ]
  },
  {
   "cell_type": "markdown",
   "id": "c3526a69-fd86-4843-a269-cd928a73ade2",
   "metadata": {},
   "source": [
    "And it seems to work which is great. \n",
    "\n",
    "This obviously is only considering isolated molecules.  It could certainly be improved by considering data coming from simulations of bulk materials, where there would be more pairs to consider, but ultimately, this is just a fun demo and not necessarily all that useful. \n"
   ]
  },
  {
   "cell_type": "markdown",
   "id": "b5320c8c-7877-49ec-94f5-eed119374f33",
   "metadata": {},
   "source": []
  },
  {
   "cell_type": "code",
   "execution_count": null,
   "id": "c76163d2-b4e2-4a35-9ce7-93af563214d6",
   "metadata": {},
   "outputs": [],
   "source": []
  }
 ],
 "metadata": {
  "kernelspec": {
   "display_name": "Python 3 (ipykernel)",
   "language": "python",
   "name": "python3"
  },
  "language_info": {
   "codemirror_mode": {
    "name": "ipython",
    "version": 3
   },
   "file_extension": ".py",
   "mimetype": "text/x-python",
   "name": "python",
   "nbconvert_exporter": "python",
   "pygments_lexer": "ipython3",
   "version": "3.10.10"
  }
 },
 "nbformat": 4,
 "nbformat_minor": 5
}
